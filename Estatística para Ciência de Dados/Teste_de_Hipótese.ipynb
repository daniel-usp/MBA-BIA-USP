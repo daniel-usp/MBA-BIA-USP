{
  "nbformat": 4,
  "nbformat_minor": 0,
  "metadata": {
    "colab": {
      "provenance": [],
      "authorship_tag": "ABX9TyNkND67GfZQPnF2SJegNFUk",
      "include_colab_link": true
    },
    "kernelspec": {
      "name": "python3",
      "display_name": "Python 3"
    },
    "language_info": {
      "name": "python"
    }
  },
  "cells": [
    {
      "cell_type": "markdown",
      "metadata": {
        "id": "view-in-github",
        "colab_type": "text"
      },
      "source": [
        "<a href=\"https://colab.research.google.com/github/daniel-usp/MBA-BIA-USP/blob/main/Teste_de_Hip%C3%B3tese.ipynb\" target=\"_parent\"><img src=\"https://colab.research.google.com/assets/colab-badge.svg\" alt=\"Open In Colab\"/></a>"
      ]
    },
    {
      "cell_type": "markdown",
      "source": [
        "## **Caso 1: Produtividade em Equipes Remotas 🏠💼**\n",
        "**História:**\n",
        "Uma empresa de tecnologia permitiu que suas equipes trabalhassem remotamente após 2020. A gerência quer saber se a produtividade aumentou nesse modelo.\n",
        "\n",
        "**Hipótese:**\n",
        "- **H₀:** A produtividade média de equipes remotas é igual à de equipes presenciais.\n",
        "- **H₁:** A produtividade média de equipes remotas é maior que a de equipes presenciais.\n",
        "\n",
        "**Dados:**\n",
        "Produtividade medida em tarefas concluídas por dia:\n"
      ],
      "metadata": {
        "id": "OmGoZSPDO29Q"
      }
    },
    {
      "cell_type": "code",
      "execution_count": null,
      "metadata": {
        "id": "8HC7XYJ9O1ye"
      },
      "outputs": [],
      "source": [
        "equipes_presenciais = [8, 9, 10, 8, 9, 8, 10]\n",
        "equipes_remotas = [10, 11, 12, 10, 11, 10, 12]"
      ]
    },
    {
      "cell_type": "markdown",
      "source": [
        "##**Caso 2: Retornos de Fundos ESG 🌍📈**\n",
        "**História**: Investidores querem saber se fundos ESG (ambiental, social e governança) geram maiores retornos médios do que fundos tradicionais.\n",
        "\n",
        "**Hipótese**:\n",
        "\n",
        "*   **H₀**: O retorno médio de fundos ESG é igual ao de fundos tradicionais.\n",
        "*   **H₁**: O retorno médio de fundos ESG é maior que o de fundos tradicionais.\n",
        "\n",
        "\n",
        "**Dados**: Retornos anuais dos fundos:"
      ],
      "metadata": {
        "id": "K8IrL6tfPRLV"
      }
    },
    {
      "cell_type": "code",
      "source": [
        "fundos_esg = [0.12, 0.14, 0.13, 0.15, 0.14]\n",
        "fundos_tradicionais = [0.10, 0.11, 0.10, 0.12, 0.11]"
      ],
      "metadata": {
        "id": "61vsuoYbPhF1"
      },
      "execution_count": null,
      "outputs": []
    },
    {
      "cell_type": "markdown",
      "source": [
        "##**Caso 3: Campanhas Personalizadas 🎯📢**\n",
        "**História**: Uma empresa testou se campanhas de marketing personalizadas aumentam as taxas de conversão em comparação com campanhas genéricas.\n",
        "\n",
        "**Hipótese:**\n",
        "*   **H₀:** A taxa de conversão de campanhas personalizadas é igual à de campanhas genéricas.\n",
        "*   **H₁:** A taxa de conversão de campanhas personalizadas é maior que a de campanhas genéricas.\n",
        "\n",
        "\n",
        "**Dados:** Taxas de conversão (%):"
      ],
      "metadata": {
        "id": "WZICe6zpQNhS"
      }
    },
    {
      "cell_type": "code",
      "source": [
        "campanhas_personalizadas = [25, 30, 28, 27, 29]\n",
        "campanhas_genericas = [20, 22, 23, 21, 22]"
      ],
      "metadata": {
        "id": "aELSEuizQKgy"
      },
      "execution_count": null,
      "outputs": []
    },
    {
      "cell_type": "markdown",
      "source": [
        "##**Caso 4: Taxa de Abandono de Carrinho 🛒❌**\n",
        "**História:** Um e-commerce quer descobrir se a implementação de chatbots reduziu a taxa de abandono de carrinho.\n",
        "\n",
        "***Hipótese:***\n",
        "\n",
        "\n",
        "\n",
        "*   ***H₀:*** A taxa de abandono de carrinho é a mesma antes e depois da implementação de chatbots.\n",
        "*   ***H₁:*** A taxa de abandono de carrinho é menor após a implementação de chatbots.\n",
        "\n",
        "\n",
        "**Dados:** Taxas de abandono (%):"
      ],
      "metadata": {
        "id": "p6C0qwVIQy8V"
      }
    },
    {
      "cell_type": "code",
      "source": [
        "antes_chatbot = [45, 46, 47, 44, 45]\n",
        "depois_chatbot = [38, 37, 39, 36, 38]"
      ],
      "metadata": {
        "id": "TcmDs1mrZWZD"
      },
      "execution_count": null,
      "outputs": []
    }
  ]
}
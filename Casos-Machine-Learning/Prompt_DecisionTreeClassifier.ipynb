{
  "nbformat": 4,
  "nbformat_minor": 0,
  "metadata": {
    "colab": {
      "provenance": [],
      "authorship_tag": "ABX9TyO6Ru4xeSdDT9B8un5kqiP9",
      "include_colab_link": true
    },
    "kernelspec": {
      "name": "python3",
      "display_name": "Python 3"
    },
    "language_info": {
      "name": "python"
    }
  },
  "cells": [
    {
      "cell_type": "markdown",
      "metadata": {
        "id": "view-in-github",
        "colab_type": "text"
      },
      "source": [
        "<a href=\"https://colab.research.google.com/github/daniel-usp/MachineLearning/blob/main/Prompt_DecisionTreeClassifier.ipynb\" target=\"_parent\"><img src=\"https://colab.research.google.com/assets/colab-badge.svg\" alt=\"Open In Colab\"/></a>"
      ]
    },
    {
      "cell_type": "code",
      "source": [
        "# Importar bibliotecas necessárias\n",
        "import pandas as pd\n",
        "from sklearn.model_selection import train_test_split, GridSearchCV\n",
        "from sklearn.tree import DecisionTreeClassifier, export_graphviz\n",
        "from sklearn.metrics import accuracy_score, classification_report\n",
        "import matplotlib.pyplot as plt\n",
        "import graphviz\n",
        "\n",
        "# Carregar o banco de dados\n",
        "dados = pd.read_excel('https://github.com/daniel-usp/MachineLearning/raw/main/04%20-%20DecisionTrees/assinatura.xlsx')\n",
        "\n",
        "# Definir X e y\n",
        "y = dados['cancel']\n",
        "X = dados.drop('cancel', axis=1)\n",
        "\n",
        "# Separar amostra treino e teste\n",
        "X_train, X_test, y_train, y_test = train_test_split(X, y, test_size=0.3, random_state=42)\n",
        "\n",
        "# Definir a grade de parâmetros\n",
        "param_grid = {\n",
        "    'max_depth': [1, 2, 3, 4, 5, 6, 7, 8, 9, 10, 15],\n",
        "    'splitter': ['best', 'random']\n",
        "}\n",
        "\n",
        "# Realizar a busca em grade (grid search) para encontrar os melhores parâmetros\n",
        "grid_search = GridSearchCV(DecisionTreeClassifier(random_state=42), param_grid, cv=5, scoring='accuracy')\n",
        "grid_search.fit(X_train, y_train)\n",
        "\n",
        "# Obter os melhores parâmetros\n",
        "best_params = grid_search.best_params_\n",
        "best_max_depth = best_params['max_depth']\n",
        "best_splitter = best_params['splitter']\n",
        "best_accuracy = grid_search.best_score_\n",
        "\n",
        "print(f\"O melhor valor de max_depth é: {best_max_depth}\")\n",
        "print(f\"O melhor valor de splitter é: {best_splitter}\")\n",
        "print(f\"A melhor acurácia durante a validação cruzada é: {best_accuracy:.2f}\")\n",
        "\n",
        "# Treinar o modelo de Árvore de Decisão com os melhores parâmetros\n",
        "tree = DecisionTreeClassifier(max_depth=best_max_depth, splitter=best_splitter, random_state=42)\n",
        "tree.fit(X_train, y_train)\n",
        "\n",
        "# Prever y no conjunto de teste\n",
        "y_pred = tree.predict(X_test)\n",
        "\n",
        "# Avaliar a taxa de acerto fora da amostra\n",
        "accuracy = accuracy_score(y_test, y_pred)\n",
        "print(f\"Taxa de acerto fora da amostra: {accuracy:.2f}\")\n",
        "\n",
        "# Gerar o relatório de classificação\n",
        "report = classification_report(y_test, y_pred, target_names=['0', '1'])\n",
        "print(report)\n",
        "\n",
        "\n",
        "# Exportar a árvore de decisão para o formato Graphviz\n",
        "dot_data = export_graphviz(\n",
        "    tree,\n",
        "    out_file=None,\n",
        "    feature_names=X.columns,\n",
        "    class_names=['0', '1'],\n",
        "    filled=True,\n",
        "    rounded=True,\n",
        "    special_characters=True\n",
        ")\n",
        "\n",
        "# Visualizar a árvore de decisão com Graphviz\n",
        "graph = graphviz.Source(dot_data)\n",
        "graph.render(\"decision_tree\")\n",
        "\n",
        "# Exibir a árvore renderizada\n",
        "graph.view()\n"
      ],
      "metadata": {
        "colab": {
          "base_uri": "https://localhost:8080/",
          "height": 261
        },
        "id": "SaKuph2tY6ed",
        "outputId": "cf2bad93-8e04-4484-a7d7-94017a1b6909"
      },
      "execution_count": 13,
      "outputs": [
        {
          "output_type": "stream",
          "name": "stdout",
          "text": [
            "O melhor valor de max_depth é: 3\n",
            "O melhor valor de splitter é: random\n",
            "A melhor acurácia durante a validação cruzada é: 0.78\n",
            "Taxa de acerto fora da amostra: 0.80\n",
            "              precision    recall  f1-score   support\n",
            "\n",
            "           0       0.84      0.91      0.87       457\n",
            "           1       0.61      0.44      0.51       143\n",
            "\n",
            "    accuracy                           0.80       600\n",
            "   macro avg       0.72      0.68      0.69       600\n",
            "weighted avg       0.78      0.80      0.79       600\n",
            "\n"
          ]
        },
        {
          "output_type": "execute_result",
          "data": {
            "text/plain": [
              "'decision_tree.pdf'"
            ],
            "application/vnd.google.colaboratory.intrinsic+json": {
              "type": "string"
            }
          },
          "metadata": {},
          "execution_count": 13
        }
      ]
    }
  ]
}
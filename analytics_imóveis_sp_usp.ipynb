{
  "nbformat": 4,
  "nbformat_minor": 0,
  "metadata": {
    "colab": {
      "provenance": [],
      "authorship_tag": "ABX9TyPoTvL7CyETf3B1KoCv1Bhk",
      "include_colab_link": true
    },
    "kernelspec": {
      "name": "python3",
      "display_name": "Python 3"
    },
    "language_info": {
      "name": "python"
    }
  },
  "cells": [
    {
      "cell_type": "markdown",
      "metadata": {
        "id": "view-in-github",
        "colab_type": "text"
      },
      "source": [
        "<a href=\"https://colab.research.google.com/github/daniel-usp/MBA-BIA-USP/blob/main/analytics_im%C3%B3veis_sp_usp.ipynb\" target=\"_parent\"><img src=\"https://colab.research.google.com/assets/colab-badge.svg\" alt=\"Open In Colab\"/></a>"
      ]
    },
    {
      "cell_type": "markdown",
      "source": [
        "# 🏙️ Caso de Estudo: Analytics Imobiliário em São Paulo  \n",
        "\n",
        "## 📖 O Enredo  \n",
        "\n",
        "Imagine que você é um investidor do mercado imobiliário em São Paulo.  \n",
        "O ano é **2025** e o setor imobiliário da cidade passa por grandes transformações:  \n",
        "- A valorização dos bairros próximos ao metrô 🚇  \n",
        "- O aumento da procura por apartamentos com piscina 🏊 e academia 🏋️  \n",
        "- A preocupação com indicadores socioeconômicos como **IDH**, **renda per capita** e **desigualdade (Gini)** 📊⚖️  \n",
        "\n",
        "Você recebeu acesso a uma **base de dados com 2.259 imóveis de SP**.  \n",
        "Cada linha é um imóvel real e cada coluna traz uma informação essencial para a decisão: preço, tamanho, localização, infraestrutura e dados socioeconômicos do bairro.  \n",
        "\n",
        "Seu objetivo é **agir como um investidor orientado por dados**.  \n",
        "Você terá que responder às perguntas de Analytics e, no final, escolher **um imóvel para recomendar como investimento**.  \n",
        "\n",
        "---\n",
        "\n",
        "## 📜 As Variáveis do Banco  \n",
        "\n",
        "- **valor_total** 💰 → preço total do imóvel  \n",
        "- **preco_m2** 💵 → preço por metro quadrado  \n",
        "- **area_util** 📐 → área útil em m²  \n",
        "- **quartos** 🛏️ → número de quartos  \n",
        "- **vagas** 🚗 → número de vagas de garagem  \n",
        "- **condominio** 🏢 → valor do condomínio mensal  \n",
        "- **suites** 🛌 → número de suítes  \n",
        "- **banheiros** 🚿 → número de banheiros  \n",
        "- **piscina** 🏊 → 1 se possui piscina, 0 se não  \n",
        "- **academia** 🏋️ → 1 se possui academia, 0 se não  \n",
        "- **quadra** 🏀 → 1 se possui quadra esportiva, 0 se não  \n",
        "- **bairro** 🏘️ → nome do bairro  \n",
        "- **media_idh** 📊 → índice de desenvolvimento humano médio do bairro  \n",
        "- **media_gini** ⚖️ → índice de desigualdade do bairro  \n",
        "- **renda_percapita** 💵 → renda média per capita do bairro  \n",
        "- **estacao_prox** 🚉 → estação de metrô mais próxima  \n",
        "- **linha_prox** 🚇 → linha do metrô mais próxima  \n",
        "- **dist_metro** 📏 → distância até a estação de metrô (em metros)  \n",
        "\n",
        "---\n",
        "\n",
        "# 🎮 Perguntas de Analytics  \n",
        "\n",
        "## 🔎 Exploração Inicial  \n",
        "1. 📊 Quantas linhas e colunas existem no dataset?  \n",
        "2. 🏘️ Liste todos os bairros únicos.  \n",
        "3. 📐 Qual é a área média dos imóveis (`area_util`)?  \n",
        "4. 💰 Qual é o valor médio e máximo do preço (`valor_total`)?  \n",
        "5. 💵 Qual é o preço médio por metro quadrado (`preco_m2`)?  \n",
        "6. 📏 Qual é o imóvel com maior área útil e qual o menor?  \n",
        "7. 🏢 Qual é o valor de condomínio mais alto encontrado?  \n",
        "8. 🛏️ Qual é a distribuição do número de quartos?  \n",
        "\n",
        "---\n",
        "\n",
        "## 🏘️ Análise por Bairros  \n",
        "9. 💵 Qual é o bairro mais caro em média por m²?  \n",
        "10. 💵 Qual é o bairro mais barato em média por m²?  \n",
        "11. 🏘️ Quais são os 5 bairros com maior número de imóveis cadastrados?  \n",
        "12. 📊 Existe correlação entre renda per capita e preço por m²?  \n",
        "\n",
        "---\n",
        "\n",
        "## 🏗️ Infraestrutura e Comodidades  \n",
        "13. 🏊 Quantos imóveis possuem piscina?  \n",
        "14. 🏋️🏀 Quantos possuem academia e quadra ao mesmo tempo?  \n",
        "15. 💰 Qual é o preço médio de imóveis com piscina vs sem piscina?  \n",
        "16. 🚇 Qual linha de metrô concentra mais imóveis?  \n",
        "17. 📏 Existe diferença de preço por m² conforme a distância do metrô (`dist_metro`)?  \n",
        "\n",
        "---\n",
        "\n",
        "## ⚖️ Fatores Socioeconômicos  \n",
        "18. 📊 Existe relação entre IDH do bairro e preço do m²?  \n",
        "19. ⚖️ Imóveis em bairros com maior desigualdade (Gini alto) são mais caros ou mais baratos?  \n",
        "20. 💵 Quais são os 5 bairros com maior renda per capita e como se posicionam em termos de preço por m²?  \n",
        "\n",
        "---\n",
        "\n",
        "## 📈 Oportunidades de Investimento  \n",
        "21. 📊 Calcule a média de preço por m² por bairro e compare cada imóvel com a média do seu bairro.  \n",
        "22. ➕➖ Quantos imóveis estão acima da média (SUPER) e quantos abaixo da média (SUB)?  \n",
        "23. 🏆 Quais são os 10 melhores negócios (imóveis SUB com maior área útil)?  \n",
        "24. 🎯 Selecione 1 imóvel SUB que tenha pelo menos 2 quartos, 1 vaga, esteja a menos de 1 km do metrô e em bairro com IDH acima da média.  \n",
        "\n",
        "---\n",
        "\n",
        "# 🏆 O Desfecho  \n",
        "\n",
        "No final, você terá que responder:  \n",
        "\n",
        "**👉 Qual imóvel você recomendaria como investimento e por quê?**  \n",
        "\n",
        "A decisão deve ser baseada nos insights de Analytics, equilibrando:  \n",
        "- Preço justo 💵  \n",
        "- Localização estratégica 🚉  \n",
        "- Infraestrutura de lazer 🏊🏋️  \n",
        "- Qualidade socioeconômica do bairro 📊⚖️  \n",
        "\n",
        "🎉 Boa sorte, investidor! O mercado de São Paulo espera sua decisão. 🚀  "
      ],
      "metadata": {
        "id": "JfCZWAoQSj1d"
      }
    },
    {
      "cell_type": "code",
      "execution_count": null,
      "metadata": {
        "id": "A23gc9edSOl8"
      },
      "outputs": [],
      "source": []
    }
  ]
}
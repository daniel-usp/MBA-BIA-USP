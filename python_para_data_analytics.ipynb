{
  "nbformat": 4,
  "nbformat_minor": 0,
  "metadata": {
    "colab": {
      "provenance": [],
      "authorship_tag": "ABX9TyPP71pDMouPWX5bDtSwdbso",
      "include_colab_link": true
    },
    "kernelspec": {
      "name": "python3",
      "display_name": "Python 3"
    },
    "language_info": {
      "name": "python"
    }
  },
  "cells": [
    {
      "cell_type": "markdown",
      "metadata": {
        "id": "view-in-github",
        "colab_type": "text"
      },
      "source": [
        "<a href=\"https://colab.research.google.com/github/daniel-usp/MBA-BIA-USP/blob/main/python_para_data_analytics.ipynb\" target=\"_parent\"><img src=\"https://colab.research.google.com/assets/colab-badge.svg\" alt=\"Open In Colab\"/></a>"
      ]
    },
    {
      "cell_type": "markdown",
      "source": [
        "# 😊🌟 Fundamentos de Python  📚🐍\n",
        "\n",
        "Bem-vindos ao curso intensivo \"Aprendendo Python com Chat GPT\" 🐍. Este curso é projetado para fornecer uma compreensão generalizada da linguagem de programação Python, juntamente com a aplicação prática do ChatGPT para reforçar o aprendizado.\n",
        "\n",
        "## 1. Introdução 🚀\n",
        "\n",
        "- **Apresentação do Python:**\n",
        "  - 📜 História do Python.\n",
        "  - 💡 Importância no cenário tecnológico atual.\n",
        "  - 🛠 Uso com Colab.\n",
        "\n",
        "- **Introdução ao ChatGPT:**\n",
        "  - 🤖 Descrição e capacidades do ChatGPT.\n",
        "  - 🎓 Como o ChatGPT pode ser uma ferramenta de apoio no aprendizado de Python.\n",
        "\n",
        "## 2. Fundamentos do Python 📚\n",
        "\n",
        "- **Variáveis e Tipos de Dados:**\n",
        "  - 🔢 Exploração de variáveis e tipos de dados fundamentais.\n",
        "  - ➕ Realização de operações básicas com dados.\n",
        "\n",
        "## 3. Estruturas de Dados em Python 🗂\n",
        "\n",
        "- **Variáveis e Coleções:**\n",
        "  - 📝 Uso de strings, listas, dicionários, tuplas e conjuntos.\n",
        "  - ✂️ Métodos comuns para manipulação dessas estruturas.\n",
        "- **Estruturas de Controle de Fluxo:**\n",
        "  - 🔄 Uso de `if`, `for` e `while` para controle de fluxo.\n",
        "\n",
        "## 4. Funções em Python 🛠\n",
        "\n",
        "- **Criação e Uso de Funções:**\n",
        "  - 📐 Como definir e invocar funções.\n",
        "  - 🔄 Passagem de parâmetros e retorno de valores.\n",
        "\n",
        "- **Módulos e Bibliotecas:**\n",
        "  - 📦 Importação e utilização de módulos externos.\n",
        "  - 📚 Exploração de algumas bibliotecas padrão.\n",
        "\n",
        "## 5. Manipulação de Dados com Pandas 🐼\n",
        "\n",
        "- **Básico sobre Pandas:**\n",
        "  - 📊 Visão geral da biblioteca.\n",
        "  - 📈 Leitura, manipulação e análise básica de dados com Pandas.\n",
        "\n",
        "## 6. Visualização de Dados com Python 📉\n",
        "\n",
        "- **Bibliotecas de Visualização:**\n",
        "  - 🎨 Introdução ao Matplotlib e Seaborn.\n",
        "  - 📊 Criação de gráficos para análise de dados.\n",
        "\n"
      ],
      "metadata": {
        "id": "DH2KKEhOKTLd"
      }
    },
    {
      "cell_type": "markdown",
      "source": [
        "## <font color='blue'> Fundamentos de Python</font>\n"
      ],
      "metadata": {
        "id": "15lNwCCwF79v"
      }
    },
    {
      "cell_type": "code",
      "source": [
        "# Uma variável é um nome que se refere a um valor.\n",
        "mensagem = \"Bem-vindo ao curso de Python!\"  # Variável 'mensagem' contendo um texto\n",
        "numero = 7  # Variável 'numero' contendo um número inteiro\n",
        "preco = 19.99  # Variável 'preco' contendo um número decimal (float)\n",
        "\n",
        "desconto = preco - preco*0.10\n",
        "desconto\n"
      ],
      "metadata": {
        "id": "wRTDf55MKUDn",
        "colab": {
          "base_uri": "https://localhost:8080/"
        },
        "outputId": "0365efbb-24e9-4106-95a0-10c9d0b27f44"
      },
      "execution_count": null,
      "outputs": [
        {
          "output_type": "execute_result",
          "data": {
            "text/plain": [
              "17.991"
            ]
          },
          "metadata": {},
          "execution_count": 8
        }
      ]
    },
    {
      "cell_type": "code",
      "source": [
        "# Python tem vários tipos de dados, mas os principais são números e strings.\n",
        "inteiro = 10  # Um número inteiro\n",
        "ponto_flutuante = 10.5  # Um número com ponto decimal\n",
        "texto = \"Aprendendo Python é divertido!\"  # Uma sequência de caracteres, chamada de string"
      ],
      "metadata": {
        "id": "wbtp-CAYG32m"
      },
      "execution_count": null,
      "outputs": []
    },
    {
      "cell_type": "code",
      "source": [
        "# Python pode ser usado como uma calculadora simples.\n",
        "soma = 1 + 1  # Adição\n",
        "subtracao = 2 - 1  # Subtração\n",
        "multiplicacao = 2 * 3  # Multiplicação\n",
        "divisao = 10 / 2  # Divisão\n",
        "potenciacao = 10**4\n",
        "\n",
        "print(soma, subtracao, multiplicacao, divisao, potenciacao)"
      ],
      "metadata": {
        "id": "2YUte5EyHFAc",
        "colab": {
          "base_uri": "https://localhost:8080/"
        },
        "outputId": "76b69c17-85fe-4ff4-b086-8a9d0680e084"
      },
      "execution_count": null,
      "outputs": [
        {
          "output_type": "stream",
          "name": "stdout",
          "text": [
            "2 1 6 5.0 10000\n"
          ]
        }
      ]
    },
    {
      "cell_type": "code",
      "source": [
        "# Podemos pedir ao usuário para inserir informações.\n",
        "nome = input(\"Qual é o seu nome? \")  # Pede ao usuário para digitar o seu nome\n",
        "print(\"Olá\", nome,\"!\")\n"
      ],
      "metadata": {
        "id": "MGqFO-B_HLQZ",
        "colab": {
          "base_uri": "https://localhost:8080/"
        },
        "outputId": "ce5d336e-de62-4eeb-eb74-0b91612ebd47"
      },
      "execution_count": null,
      "outputs": [
        {
          "output_type": "stream",
          "name": "stdout",
          "text": [
            "Qual é o seu nome? Daniel\n",
            "Olá Daniel !\n"
          ]
        }
      ]
    },
    {
      "cell_type": "code",
      "source": [
        "nome = input(\"Qual é o seu nome? \")  # Pede ao usuário para digitar o seu nome\n",
        "idade = input(\"Qual é a sua idade? \")  # Pede ao usuário para digitar a sua idade\n",
        "# print(\"Olá\", nome, \"! Você tem\", idade, \"anos.\")\n",
        "print(f\"Olá {nome} !. Você têm {idade} anos. \")\n"
      ],
      "metadata": {
        "colab": {
          "base_uri": "https://localhost:8080/"
        },
        "id": "BC4VlOxKPAPZ",
        "outputId": "3cfc8225-eb96-4991-f764-aed4ab52e9d3"
      },
      "execution_count": null,
      "outputs": [
        {
          "output_type": "stream",
          "name": "stdout",
          "text": [
            "Qual é o seu nome? Gabriela\n",
            "Qual é a sua idade? 24\n",
            "Olá Gabriela !. Você têm 24 anos. \n"
          ]
        }
      ]
    },
    {
      "cell_type": "code",
      "source": [
        "# Cálculo de ROI (Retorno sobre Investimento)\n",
        "custo_inicial = 10000  # Variável para armazenar o custo inicial do projeto\n",
        "receita_gerada = 20000  # Variável para armazenar a receita gerada pelo projeto\n",
        "\n",
        "roi = (receita_gerada - custo_inicial) / custo_inicial\n",
        "# Imprimir o ROI do projeto\n",
        "print(f\"O ROI do projeto é de {roi*100:.2f}%\")\n"
      ],
      "metadata": {
        "id": "fh_xQHySHad1",
        "colab": {
          "base_uri": "https://localhost:8080/"
        },
        "outputId": "3b8e41c6-632d-4120-e009-ecf798df4b58"
      },
      "execution_count": null,
      "outputs": [
        {
          "output_type": "stream",
          "name": "stdout",
          "text": [
            "O ROI do projeto é de 100.00%\n"
          ]
        }
      ]
    },
    {
      "cell_type": "code",
      "source": [
        "# Determinação do preço de venda com base na margem de lucro desejada\n",
        "custo_produto = 60  # Custo de aquisição ou produção\n",
        "margem_lucro = 0.4  # Margem de lucro desejada (20%)\n",
        "\n",
        "preco_venda = custo_produto * (1 + margem_lucro)\n",
        "print(f\"O preço de venda do produto deve ser: R$ {preco_venda:.2f}\")"
      ],
      "metadata": {
        "id": "FXl73kdlHtT1",
        "colab": {
          "base_uri": "https://localhost:8080/"
        },
        "outputId": "0f00225c-ba9f-43a9-a0cc-340f7d172eb3"
      },
      "execution_count": null,
      "outputs": [
        {
          "output_type": "stream",
          "name": "stdout",
          "text": [
            "O preço de venda do produto deve ser: R$ 84.00\n"
          ]
        }
      ]
    },
    {
      "cell_type": "code",
      "source": [
        "nome = \"Steve\"\n",
        "sobrenome = \"Jobs\"\n",
        "idade = 50\n",
        "\n",
        "#Printe Meu nome é Steve Jobs e tenho 50 anos com as variáveis acima\n",
        "print(f\"Meu nome é {nome} {sobrenome} e tenho {idade} anos.\")\n"
      ],
      "metadata": {
        "id": "TXjBKJr1c4bc",
        "colab": {
          "base_uri": "https://localhost:8080/"
        },
        "outputId": "3fe791cf-a601-459c-c08a-47fb9df1a587"
      },
      "execution_count": null,
      "outputs": [
        {
          "output_type": "stream",
          "name": "stdout",
          "text": [
            "Meu nome é Steve Jobs e tenho 50 anos.\n"
          ]
        }
      ]
    },
    {
      "cell_type": "code",
      "source": [
        "# O script em Python a seguir verifica se a variável `nome` contém o nome \"Ana\".\n",
        "#Ele retorna True se \"Ana\" estiver presente e False caso contrário.\n",
        "\n",
        "# Variável com o nome\n",
        "nome = \"Ana\".lower()\n",
        "\n",
        "# Verifica se 'Ana' está no nome\n",
        "contem_ana = \"ANA\".lower() in nome\n",
        "\n",
        "# Exibe o resultado\n",
        "resultado = (nome == \"Ana\".lower())\n",
        "resultado"
      ],
      "metadata": {
        "id": "N7IWa2yWo8pM",
        "colab": {
          "base_uri": "https://localhost:8080/"
        },
        "outputId": "72d3bddb-bc0b-40ca-a7b9-701b14647753"
      },
      "execution_count": null,
      "outputs": [
        {
          "output_type": "execute_result",
          "data": {
            "text/plain": [
              "True"
            ]
          },
          "metadata": {},
          "execution_count": 32
        }
      ]
    },
    {
      "cell_type": "code",
      "source": [
        "#Comparações Lógicas\n",
        "# > (maior), < (menor), >= (maior ou igual), <= (menor ou igual), == (igual) e != (diferente)\n",
        "\n",
        "# Verifique se o número 5 é maior do que 2\n",
        "resultado = (5 != 2) #Estou vendo se 5 é diferente de 2\n",
        "resultado\n",
        "\n"
      ],
      "metadata": {
        "id": "mABQJhtKptL1",
        "colab": {
          "base_uri": "https://localhost:8080/"
        },
        "outputId": "9cd35c1b-fc83-4f6c-de28-b9af83f4893f"
      },
      "execution_count": null,
      "outputs": [
        {
          "output_type": "execute_result",
          "data": {
            "text/plain": [
              "True"
            ]
          },
          "metadata": {},
          "execution_count": 36
        }
      ]
    },
    {
      "cell_type": "markdown",
      "source": [
        "## <font color='blue'> Estruturas de Dados</font>"
      ],
      "metadata": {
        "id": "2FZtCMVGcfRa"
      }
    },
    {
      "cell_type": "markdown",
      "source": [
        "### Listas: Cálculo de Receita Total 📊\n",
        "Você é um analista financeiro 💼 em uma startup e tem uma lista representando a receita mensal 💰 da empresa ao longo do ano. Em Python, as listas começam com o índice zero, então o primeiro elemento representa janeiro 📅, o segundo fevereiro, e assim por diante. Sua tarefa é calcular a receita total acumulada ao longo do ano.\n",
        "\n",
        "```python\n",
        "receitas = [1200, 1500, 1100, 1300, 1400, 2000, 1800, 1600, 1700, 1900, 2100, 2200]\n",
        "\n"
      ],
      "metadata": {
        "id": "8GaGGHbKZBkJ"
      }
    },
    {
      "cell_type": "code",
      "source": [
        "receitas = [1200, 1500, 1100, 1300, 1400, 2000, 1800, 1600, 1700, 1900, 2100, 2200]\n",
        "soma = sum(receitas)\n",
        "tamanho = len(receitas)\n",
        "\n",
        "media = soma / tamanho\n",
        "media"
      ],
      "metadata": {
        "colab": {
          "base_uri": "https://localhost:8080/"
        },
        "id": "oL4TIjEYUfqS",
        "outputId": "1847cfd4-17c7-410d-f84a-5444da0791dc"
      },
      "execution_count": null,
      "outputs": [
        {
          "output_type": "execute_result",
          "data": {
            "text/plain": [
              "1650.0"
            ]
          },
          "metadata": {},
          "execution_count": 42
        }
      ]
    },
    {
      "cell_type": "code",
      "source": [
        "#Seleção em Listas\n",
        "receitas = [1200, 1500, 1100, 1300, 1400, 2000, 1800, 1600, 1700, 1900, 2100, 2200]\n",
        "#Qual é o primeiro elemento\n",
        "receitas[0]\n",
        "\n",
        "#Pegar os dois primeiros elementos\n",
        "receitas[0:2] #Pegar o elemento de i até j-1, ou seja, os elementos (0,1) da lista receitas"
      ],
      "metadata": {
        "colab": {
          "base_uri": "https://localhost:8080/"
        },
        "id": "pRpDuNZeXQkn",
        "outputId": "4bc88216-5994-4cb0-9247-3009ed9f4134"
      },
      "execution_count": null,
      "outputs": [
        {
          "output_type": "execute_result",
          "data": {
            "text/plain": [
              "[1200, 1500]"
            ]
          },
          "metadata": {},
          "execution_count": 50
        }
      ]
    },
    {
      "cell_type": "code",
      "source": [
        "receitas = [1200, 1500, 1100, 1300, 1400, 2000, 1800, 1600, 1700, 1900, 2100, 2200]\n",
        "indices = [1, 3]\n",
        "\n",
        "# Usando compreensão de lista para selecionar elementos com base nos índices\n",
        "elementos_selecionados = [receitas[i] for i in indices]\n",
        "\n",
        "elementos_selecionados\n"
      ],
      "metadata": {
        "colab": {
          "base_uri": "https://localhost:8080/"
        },
        "id": "ZauzOuQkWcQZ",
        "outputId": "bb1cc805-04ce-406e-a6e3-f30fba6f3d35"
      },
      "execution_count": null,
      "outputs": [
        {
          "output_type": "execute_result",
          "data": {
            "text/plain": [
              "[1500, 1300]"
            ]
          },
          "metadata": {},
          "execution_count": 51
        }
      ]
    },
    {
      "cell_type": "code",
      "source": [
        "idades = [18, 22, 15, 50]   #índices\n",
        "#         0   1   2   3\n",
        "#         0  -3  -2  -1\n",
        "\n",
        "idades[-1]\n",
        "\n",
        "# Lista de idades\n",
        "idades = [18, 22, 15, 50]\n",
        "\n",
        "# Pegando as idades 22 e 15 e armazenando em uma lista chamada clientes_premium\n",
        "clientes_premium = [idades[1], idades[2]]  # índices 1 e 2 correspondem a 22 e 15, respectivamente\n",
        "\n",
        "clientes_premium = idades[1:3]\n",
        "clientes_premium\n",
        "\n"
      ],
      "metadata": {
        "id": "DHUA_TkvdVlw",
        "colab": {
          "base_uri": "https://localhost:8080/"
        },
        "outputId": "5d0f255e-4b4f-4885-a71e-fe3d7cf53e40"
      },
      "execution_count": null,
      "outputs": [
        {
          "output_type": "execute_result",
          "data": {
            "text/plain": [
              "[22, 15]"
            ]
          },
          "metadata": {},
          "execution_count": 56
        }
      ]
    },
    {
      "cell_type": "code",
      "source": [
        "# Lista de idades\n",
        "idades = [18, 22, 15, 50]\n",
        "\n",
        "# Criando uma sublista com as duas maiores idades\n",
        "duas_maiores_idades = sorted(idades, reverse=True)[:2]\n",
        "\n",
        "duas_maiores_idades\n",
        "\n",
        "lista = sorted(idades,reverse = True)\n",
        "lista[:2]"
      ],
      "metadata": {
        "colab": {
          "base_uri": "https://localhost:8080/"
        },
        "id": "XgPxgnKGXlyI",
        "outputId": "937ad9f6-bbb2-4e40-8ee9-487ae9fcefaa"
      },
      "execution_count": null,
      "outputs": [
        {
          "output_type": "execute_result",
          "data": {
            "text/plain": [
              "[50, 22]"
            ]
          },
          "metadata": {},
          "execution_count": 60
        }
      ]
    },
    {
      "cell_type": "code",
      "source": [
        "#Solução Cálculo de Receita Total"
      ],
      "metadata": {
        "id": "9BnNMW4OZk0z"
      },
      "execution_count": null,
      "outputs": []
    },
    {
      "cell_type": "markdown",
      "source": [
        "### Listas: Média de Vendas por Semestre 📈\n",
        "Como parte da equipe de análise 🕵️‍♂️ de uma empresa, você precisa calcular a média de vendas de cada semestre do ano. A lista `vendas` contém os valores de vendas mensais 💲. Lembre-se de que a contagem dos elementos da lista começa em zero.\n",
        "\n",
        "```python\n",
        "vendas = [14000, 15000, 16000, 14500, 14800, 15500, 14900, 15800, 15700, 16200, 16100, 15900]\n",
        "\n"
      ],
      "metadata": {
        "id": "dhpgybmaZq8a"
      }
    },
    {
      "cell_type": "code",
      "source": [
        "#Solução Média de Vendas por Semestre\n",
        "# Lista de vendas\n",
        "vendas = [14000, 15000, 16000, 14500, 14800, 15500, 14900, 15800, 15700, 16200, 16100, 15900]\n",
        "\n",
        "# Calculando a média de vendas do primeiro semestre (Janeiro a Junho)\n",
        "media_primeiro_semestre = sum(vendas[:6]) / 6\n",
        "\n",
        "# Calculando a média de vendas do segundo semestre (Julho a Dezembro)\n",
        "media_segundo_semestre = sum(vendas[6:]) / 6\n",
        "\n",
        "media_primeiro_semestre, media_segundo_semestre\n",
        "\n"
      ],
      "metadata": {
        "id": "NFOpzvx5aAdw",
        "colab": {
          "base_uri": "https://localhost:8080/"
        },
        "outputId": "ee119948-950d-4e81-d812-9b2ebdd4e330"
      },
      "execution_count": null,
      "outputs": [
        {
          "output_type": "execute_result",
          "data": {
            "text/plain": [
              "(14966.666666666666, 15766.666666666666)"
            ]
          },
          "metadata": {},
          "execution_count": 61
        }
      ]
    },
    {
      "cell_type": "markdown",
      "source": [
        "\n",
        "### Estruturas Condicionais: Análise de Orçamento de Marketing 💼📈\n",
        "Você é responsável pelo orçamento de marketing digital 📊 de sua empresa. Sua tarefa é decidir em qual rede social investir mais recursos 💰, baseando-se no número de leads gerados. Se o Instagram 📸 gerar mais leads do que o Facebook 👥, o investimento será maior no Instagram; caso contrário, será maior no Facebook.\n",
        "\n",
        "- **Leads do Instagram:** 120\n",
        "- **Leads do Facebook:** 150\n",
        "\n",
        "Escreva um programa em Python que utilize uma estrutura condicional (`if` e `else`) para comparar o número de leads gerados pelo Instagram e pelo Facebook. O programa deve imprimir qual rede social deve receber um orçamento maior para marketing 🚀.\n",
        "\n",
        "Este exercício tem como objetivo praticar o uso de lógica condicional em Python, aplicada a um cenário real de decisão de investimento em marketing digital 🌐.\n"
      ],
      "metadata": {
        "id": "OqU5cclP2uR2"
      }
    },
    {
      "cell_type": "code",
      "source": [
        "#Solução\n",
        "# Dados dos leads\n",
        "leads_instagram = 120\n",
        "leads_facebook = 250\n",
        "\n",
        "# Comparação usando estrutura condicional\n",
        "if (leads_instagram > leads_facebook) and (leads_instagram) > 100:\n",
        "  print(\"Investir mais no Instagram\")\n",
        "elif leads_facebook > 200:\n",
        "  print(\"Investir mais no facebook\")\n",
        "else:\n",
        "  print(\"Não investir em nenhum canal\")\n"
      ],
      "metadata": {
        "id": "GYjMyWMd3rRC",
        "colab": {
          "base_uri": "https://localhost:8080/"
        },
        "outputId": "fbd48737-ea9f-431b-b820-8ff2c876e96e"
      },
      "execution_count": null,
      "outputs": [
        {
          "output_type": "stream",
          "name": "stdout",
          "text": [
            "Investir mais no facebook\n"
          ]
        }
      ]
    },
    {
      "cell_type": "markdown",
      "source": [
        "### Avaliação de Desempenho de Vendas com Bônus 📈💰\n",
        "Você está avaliando o desempenho das vendas da sua equipe 🏆. Se a equipe atingir ou superar a meta estabelecida, um bônus será concedido 💸. O bônus é calculado como 10% do valor total das vendas realizadas.\n",
        "\n",
        "- **Vendas realizadas:** 150.000\n",
        "- **Meta de vendas:** 100.000\n",
        "\n",
        "Calcule e exiba o valor do bônus se a meta de vendas for atingida 🎯.\n",
        "\n"
      ],
      "metadata": {
        "id": "FUspM9z34rsT"
      }
    },
    {
      "cell_type": "code",
      "source": [
        "#Estruturas Condicionais\n",
        "\n",
        "# Avaliação de desempenho de vendas\n",
        "vendas = 150000  # Valor total de vendas\n",
        "meta = 100000  # Meta de vendas\n",
        "#Bônus é de 10% das Vendas caso a meta atingida seja atingida\n",
        "\n",
        "# Valor total de vendas e a meta de vendas\n",
        "vendas = 150000\n",
        "meta = 100000\n",
        "\n",
        "# Verificar se a meta foi atingida\n",
        "if vendas >= meta:\n",
        "    bonus = vendas * 0.10  # Bônus é de 10% das vendas\n",
        "else:\n",
        "    bonus = 0  # Se a meta não for atingida, não há bônus\n",
        "\n",
        "print(f\"Bônus: {bonus:.0f}\")\n",
        "\n"
      ],
      "metadata": {
        "id": "ppXnE1p14Qfv",
        "colab": {
          "base_uri": "https://localhost:8080/"
        },
        "outputId": "a0133f3c-9374-4cb5-f90c-8d7e23e1b280"
      },
      "execution_count": null,
      "outputs": [
        {
          "output_type": "stream",
          "name": "stdout",
          "text": [
            "Bônus: 15000\n"
          ]
        }
      ]
    },
    {
      "cell_type": "code",
      "source": [
        "#Pedir a idade de uma pessoa e verificar se ela pode dirigir (acima de 18 anos)\n",
        "# Pedir a idade da pessoa\n",
        "idade = int(input(\"Qual é a sua idade? \"))\n",
        "\n",
        "# Verificar se a pessoa pode dirigir\n",
        "if idade >= 18:\n",
        "    print(\"Você pode dirigir.\")\n",
        "else:\n",
        "    print(\"Você ainda não pode dirigir.\")\n"
      ],
      "metadata": {
        "colab": {
          "base_uri": "https://localhost:8080/"
        },
        "id": "IPjqhNa4fZJo",
        "outputId": "484f560c-4cba-4878-c13f-ef7f9432315e"
      },
      "execution_count": null,
      "outputs": [
        {
          "output_type": "stream",
          "name": "stdout",
          "text": [
            "Qual é a sua idade? 22\n",
            "Você pode dirigir.\n"
          ]
        }
      ]
    },
    {
      "cell_type": "markdown",
      "source": [
        "### Laços com for: Vendas de iPhones 📱\n",
        "Você está gerenciando as vendas de uma loja de eletrônicos 🏬 e precisa acompanhar o número de iPhones vendidos em diferentes cidades do estado de São Paulo. Para isso, você tem uma lista que representa o número de iPhones vendidos em cada cidade.\n",
        "\n",
        "Escreva um programa em Python que use um loop for para percorrer a lista `vendas_iphones`. Calcule e imprima o total de iPhones vendidos em todas as cidades juntas 🌐.\n"
      ],
      "metadata": {
        "id": "u4l_8DdkAjRk"
      }
    },
    {
      "cell_type": "code",
      "source": [
        "#Loop com for\n",
        "vendas_iphones = [120, 80, 50, 60]  # Representando vendas em São Paulo, Campinas, Santos, Sorocaba, respectivamente\n",
        "\n",
        "\n"
      ],
      "metadata": {
        "id": "93khlXLh2Sh_"
      },
      "execution_count": null,
      "outputs": []
    },
    {
      "cell_type": "markdown",
      "source": [
        "### Laços com for: Preços com Desconto 💸\n",
        "Você possui uma lista de preços de produtos 💰 em reais e deseja aplicar um desconto de 10% em cada um deles. Use um loop for para iterar através da lista de preços, aplique o desconto e imprima o novo preço com desconto de cada produto 🛍️.\n"
      ],
      "metadata": {
        "id": "mcCIzBq5QXXP"
      }
    },
    {
      "cell_type": "code",
      "source": [
        "# Lista de preços original\n",
        "precos = [100, 200, 300, 400, 500]\n",
        "\n",
        "#Para cada elemento preço, imprima-o\n",
        "for preco in precos:\n",
        "  print(preco)\n",
        "\n",
        "#List Comprehension\n",
        "precos_com_desconto = [preco - preco*0.10 for preco in precos]\n",
        "#imprima os preços da lista acima com o loop for\n",
        "precos_com_desconto[0]\n"
      ],
      "metadata": {
        "colab": {
          "base_uri": "https://localhost:8080/"
        },
        "id": "dTtrV3gZuIdC",
        "outputId": "ae7e07e7-31e2-4b2e-c07c-800923fb0d97"
      },
      "execution_count": null,
      "outputs": [
        {
          "output_type": "stream",
          "name": "stdout",
          "text": [
            "100\n",
            "200\n",
            "300\n",
            "400\n",
            "500\n"
          ]
        },
        {
          "output_type": "execute_result",
          "data": {
            "text/plain": [
              "90.0"
            ]
          },
          "metadata": {},
          "execution_count": 16
        }
      ]
    },
    {
      "cell_type": "code",
      "source": [
        "# Lista de preços original\n",
        "precos = [100, 200, 300, 400, 500]\n",
        "\n",
        "# List Comprehension para calcular os preços com desconto de 20%\n",
        "precos_com_desconto = [preco * 0.8 for preco in precos]\n",
        "\n",
        "precos_com_desconto\n"
      ],
      "metadata": {
        "colab": {
          "base_uri": "https://localhost:8080/"
        },
        "id": "SUjPwVMAxkmO",
        "outputId": "6c7ed7e9-9d78-4da6-87b8-190632fabb4b"
      },
      "execution_count": null,
      "outputs": [
        {
          "output_type": "execute_result",
          "data": {
            "text/plain": [
              "[80.0, 160.0, 240.0, 320.0, 400.0]"
            ]
          },
          "metadata": {},
          "execution_count": 21
        }
      ]
    },
    {
      "cell_type": "code",
      "source": [
        "#Dicionários\n",
        "vendas = {'Iphone': 100, 'Macbook': 20, 'iPad': 30}\n",
        "\n",
        "for produto, venda in vendas.items():\n",
        "  print(produto, venda)"
      ],
      "metadata": {
        "colab": {
          "base_uri": "https://localhost:8080/"
        },
        "id": "pAKqCtK0xrsu",
        "outputId": "55c0ab01-0c4a-4044-efb1-9288c9c52a2b"
      },
      "execution_count": null,
      "outputs": [
        {
          "output_type": "stream",
          "name": "stdout",
          "text": [
            "Iphone 100\n",
            "Macbook 20\n",
            "iPad 30\n"
          ]
        }
      ]
    },
    {
      "cell_type": "code",
      "source": [
        "#List Comprehension\n",
        "precos_com_desconto = [preco - preco*0.10 for preco in precos]\n",
        "#imprima os preços da lista acima com o loop for\n",
        "precos_com_desconto #Pega do 0 até o elemento 2"
      ],
      "metadata": {
        "colab": {
          "base_uri": "https://localhost:8080/"
        },
        "id": "gtbLyyLFwxTn",
        "outputId": "dc7d6861-ca0c-49cd-e818-d2b93d314f72"
      },
      "execution_count": null,
      "outputs": [
        {
          "output_type": "execute_result",
          "data": {
            "text/plain": [
              "[180.0, 270.0, 360.0, 450.0]"
            ]
          },
          "metadata": {},
          "execution_count": 20
        }
      ]
    },
    {
      "cell_type": "code",
      "source": [
        "#Loop com for\n",
        "\n",
        "# Lista de preços original\n",
        "precos = [100, 200, 300, 400, 500]\n",
        "\n",
        "# A taxa de desconto é de 10%\n",
        "desconto = 0.10\n",
        "\n",
        "# Loop 'for' para aplicar o desconto\n",
        "for preco in precos:\n",
        "    preco_com_desconto = preco * (1 - desconto)\n",
        "    print(f\"Preço original: R${preco}, Preço com desconto: R${preco_com_desconto:.2f}\")"
      ],
      "metadata": {
        "id": "AS0eFeAGPm2S"
      },
      "execution_count": null,
      "outputs": []
    },
    {
      "cell_type": "markdown",
      "source": [
        "### Análise de Vendas 📊\n",
        "Você é um analista de vendas 🕵️‍♂️ em uma empresa e recebeu uma lista de vendas mensais de diferentes produtos. Sua tarefa é identificar quais produtos atingiram uma meta de vendas específica. A meta para cada produto é de 100 unidades 🎯. Utilizando a compreensão de lista em Python, crie uma nova lista que contenha apenas os produtos que atingiram ou ultrapassaram a meta de vendas.\n",
        "\n",
        "Aqui está a lista de vendas dos produtos (cada número representa as unidades vendidas de um produto em um mês específico):\n",
        "```python\n",
        "vendas_produtos = [120, 95, 130, 75, 110, 90, 155, 80, 105, 100]\n",
        "```\n",
        "\n",
        "Escreva um programa em Python que utilize a compreensão de lista para gerar uma nova lista chamada produtos_meta_atingida. Esta lista deve conter apenas os números de vendas dos produtos que atingiram ou ultrapassaram a meta de 100 unidades 🏆.\n",
        "\n",
        "\"List Comprehension\" é um recurso do Python que permite a criação de novas listas de uma forma concisa e eficiente 🚀. É uma maneira de transformar uma lista existente em uma nova lista, modificando ou filtrando seus elementos com uma expressão. Este recurso é não apenas mais compacto, mas muitas vezes mais rápido do que usar loops tradicionais 🔄.\n",
        "\n",
        "```python\n",
        "[nova_expressao for item in lista_original if condicao]\n",
        "```"
      ],
      "metadata": {
        "id": "jrwuB6X3Zdum"
      }
    },
    {
      "cell_type": "code",
      "source": [
        "#Solução\n",
        "vendas_produtos = [120, 95, 130, 75, 110, 90, 155, 80, 105, 100]\n",
        "\n",
        "vendas_que_bateram_meta = [venda for venda in vendas_produtos if venda >= 100 ]\n",
        "\n",
        "vendas_que_bateram_meta"
      ],
      "metadata": {
        "id": "s0pa81LTZf88",
        "colab": {
          "base_uri": "https://localhost:8080/"
        },
        "outputId": "1a9eaa96-c3d5-4956-e6f9-459f4ba0a696"
      },
      "execution_count": null,
      "outputs": [
        {
          "output_type": "execute_result",
          "data": {
            "text/plain": [
              "[120, 130, 110, 155, 105, 100]"
            ]
          },
          "metadata": {},
          "execution_count": 28
        }
      ]
    },
    {
      "cell_type": "markdown",
      "source": [
        "### Dicionários: HealthTech 🏥💼\n",
        "\n",
        "Você foi encarregado de criar um registro para armazenar os nomes de empresas e seus volumes de vendas anuais 💹. Crie um dicionário em Python chamado `vendas_empresas` e adicione três empresas a ele. Em seguida, acesse e imprima o volume de vendas de uma empresa específica pelo nome.\n",
        "\n",
        "- **Empresa 1:** Nome: `TechCorp`, Vendas: 2.5 milhões\n",
        "- **Empresa 2:** Nome: `HealthPlus`, Vendas: 1.7 milhões\n",
        "- **Empresa 3:** Nome: `EcoGoods`, Vendas: 2.1 milhões\n",
        "\n",
        "1. Crie um dicionário com os nomes e volumes de vendas das empresas.\n",
        "2. Acesse o volume de vendas da empresa `HealthPlus` e imprima-o 📈.\n",
        "\n",
        "\n",
        "\n"
      ],
      "metadata": {
        "id": "sY89seYVX4dd"
      }
    },
    {
      "cell_type": "code",
      "source": [
        "# Dicionário {} com empresas e seus volumes de vendas\n",
        "# A chave é o nome da empresa e o valor é o faturamento\n",
        "\n",
        "#Exemplo Lista\n",
        "vendas = [2.5, 1.7,2.1]\n",
        "vendas[0]\n",
        "\n",
        "vendas_empresas = {\"TechCorp\": 2.5, \"HealthPlus\": 1.7, \"EcoGoods\": 2.1}\n",
        "\n",
        "# Acessando e imprimindo o volume de vendas da HealthPlus\n",
        "vendas_HP = vendas_empresas[\"HealthPlus\"]\n",
        "print(f\"Volume de Vendas da HealthPlus: R${vendas_HP} milhões\")\n"
      ],
      "metadata": {
        "id": "67-nZrZ5XvNF",
        "colab": {
          "base_uri": "https://localhost:8080/"
        },
        "outputId": "753b2a1a-14e0-400a-a22e-51af79fc4b03"
      },
      "execution_count": null,
      "outputs": [
        {
          "output_type": "stream",
          "name": "stdout",
          "text": [
            "Volume de Vendas da HealthPlus: R$1.7 milhões\n"
          ]
        }
      ]
    },
    {
      "cell_type": "markdown",
      "source": [
        "### Dicionários: Evento de Educação Financeira 🎓💼\n",
        "Você está organizando um evento 🎉 e precisa manter uma lista de participantes e suas idades. Crie um programa em Python que armazene essa informação em um dicionário e depois imprima o nome e a idade de cada participante 📋. Adicione pelo menos três participantes ao dicionário e imprima os detalhes.\n",
        "\n",
        "1. Participante 1: Nome: \"João Silva\", Idade: 28\n",
        "2. Participante 2: Nome: \"Maria Fernanda\", Idade: 33\n",
        "3. Participante 3: Nome: \"Carlos Andrade\", Idade: 22\n",
        "\n",
        "- Crie um dicionário chamado `participantes` onde as chaves são os nomes dos participantes e os valores são suas idades.\n",
        "- Use um loop for para percorrer o dicionário `participantes`.\n",
        "- Imprima os detalhes de cada participante no formato: `\"[nome] tem [idade] anos\"`.\n"
      ],
      "metadata": {
        "id": "KBb3Vet3Ro1E"
      }
    },
    {
      "cell_type": "code",
      "source": [
        "# Dicionário de participantes\n",
        "participantes = {\"João Silva\": 28,\"Maria Fernanda\": 33,\"Carlos Andrade\": 22}\n",
        "\n",
        "#Os nomes são conhecidos como chaves ou keys e as idades são os valores ou valures do dicionário\n",
        "\n",
        "#Qual é a idade de Maria Fernanda\n",
        "\n",
        "# Loop para imprimir os detalhes de cada participante\n",
        "for nome, idade in participantes.items():\n",
        "    print(f\"{nome} tem {idade} anos.\")\n"
      ],
      "metadata": {
        "id": "NIgXJL-5Rphe",
        "colab": {
          "base_uri": "https://localhost:8080/"
        },
        "outputId": "91678d87-2bdd-45be-ab8e-3753e81a485e"
      },
      "execution_count": null,
      "outputs": [
        {
          "output_type": "stream",
          "name": "stdout",
          "text": [
            "João Silva tem 28 anos.\n",
            "Maria Fernanda tem 33 anos.\n",
            "Carlos Andrade tem 22 anos.\n"
          ]
        }
      ]
    },
    {
      "cell_type": "markdown",
      "source": [
        "### Exercício: Pesquisa de Satisfação do Cliente 😊📊\n",
        "Você está organizando uma pesquisa de satisfação do cliente 📝 onde os clientes classificaram seu serviço em uma escala de 1 a 5, sendo 1 'muito insatisfeito'\n",
        "\n",
        "\n",
        "```\n",
        "pontuacoes = [1, 2, 5, 4, 3, 5, 1, 4, 3, 5, 2, 1, 3, 4, 5]\n",
        "\n",
        "```"
      ],
      "metadata": {
        "id": "IQWbDMQyQ37Z"
      }
    },
    {
      "cell_type": "code",
      "source": [
        "#Solução Pesquisa de Satisfação do Cliente\n",
        "\n"
      ],
      "metadata": {
        "id": "VL2VOwFwRW2e"
      },
      "execution_count": null,
      "outputs": []
    },
    {
      "cell_type": "markdown",
      "source": [
        "\n",
        "### Exercício: Análise de Feedback de Clientes: 🔍🗣️\n",
        "Você é um analista de dados 💻 em uma empresa e recebeu feedbacks de clientes sobre um novo produto. Cada feedback é uma string que pode conter palavras-chave importantes como \"excelente\" 👍, \"bom\" 🙂, \"regular\" 😐 ou \"ruim\" 👎. Sua tarefa é analisar esses feedbacks para categorizar a reação dos clientes ao produto.\n",
        "\n",
        "Escreva um programa em Python que leia uma string de feedback e identifique se ela contém alguma das palavras-chave mencionadas. Dependendo da palavra-chave encontrada, classifique o feedback como \"Positivo\" 🟢, \"Neutro\" 🟡 ou \"Negativo\" 🔴.\n",
        "\n",
        "```python\n",
        "feedback = \"O produto é excelente e atendeu todas as minhas expectativas.\"\n",
        "\n"
      ],
      "metadata": {
        "id": "xH2IwlRldo6u"
      }
    },
    {
      "cell_type": "markdown",
      "source": [
        "## <font color='blue'> Funções</font>"
      ],
      "metadata": {
        "id": "uHXv2CeOQRzT"
      }
    },
    {
      "cell_type": "markdown",
      "source": [
        "\n",
        "### Cálculo do Lucro 💹\n",
        "Você é um analista financeiro 💼 em uma empresa e precisa criar uma função para calcular o lucro líquido 💵. O lucro líquido é calculado subtraindo as despesas totais 📉 das receitas totais 📈. Escreva uma função em Python chamada `calcular_lucro` que aceita dois argumentos: `receitas` e `despesas`. A função deve retornar o lucro líquido.\n",
        "\n",
        "\n"
      ],
      "metadata": {
        "id": "h6PogRQfSyaT"
      }
    },
    {
      "cell_type": "code",
      "source": [
        "def calcular_lucro(receitas, despesas):\n",
        "    \"\"\"\n",
        "    Calcula o lucro líquido subtraindo as despesas das receitas.\n",
        "\n",
        "    :param receitas: valor total das receitas.\n",
        "    :param despesas: valor total das despesas.\n",
        "    :return: lucro líquido.\n",
        "    \"\"\"\n",
        "    return receitas - despesas\n",
        "\n",
        "# Exemplo de uso da função\n",
        "lucro = calcular_lucro(10000, 7000)\n",
        "lucro\n"
      ],
      "metadata": {
        "colab": {
          "base_uri": "https://localhost:8080/"
        },
        "id": "SJkmsL2zMo5y",
        "outputId": "93f005f1-7438-4607-db45-92e989ac94d8"
      },
      "execution_count": null,
      "outputs": [
        {
          "output_type": "execute_result",
          "data": {
            "text/plain": [
              "3000"
            ]
          },
          "metadata": {},
          "execution_count": 3
        }
      ]
    },
    {
      "cell_type": "code",
      "source": [
        "def calcular_lucro(receitas, despesas):\n",
        "  return receitas - despesas\n",
        "\n",
        "# Exemplo de uso da função\n",
        "receitas = 100000\n",
        "despesas = 70000\n",
        "lucro = calcular_lucro(receitas, despesas)\n",
        "print(f\"O lucro líquido é: R${lucro:.2f}\")\n"
      ],
      "metadata": {
        "id": "F1YW9O_sQZBV",
        "colab": {
          "base_uri": "https://localhost:8080/"
        },
        "outputId": "b975ba61-53dd-41ad-ec3a-77a22ce482f7"
      },
      "execution_count": null,
      "outputs": [
        {
          "output_type": "stream",
          "name": "stdout",
          "text": [
            "O lucro líquido é: R$30000.00\n"
          ]
        }
      ]
    },
    {
      "cell_type": "markdown",
      "source": [
        "### Conversão de Moeda 💱\n",
        "Uma empresa de importação e exportação 🌍 precisa converter valores entre diferentes moedas frequentemente 💸.\n",
        "\n",
        "Crie uma função chamada `converter_moeda` que converte um valor de uma moeda para outra com base em uma taxa de câmbio fornecida 💹. A função deve aceitar dois argumentos: o `valor` a ser convertido e a `taxa_cambio`.\n",
        "\n",
        "- A função `converter_moeda` deve receber dois parâmetros:\n",
        "    - `valor`: O montante na moeda original 🪙.\n",
        "    - `taxa_cambio`: A taxa de câmbio para conversão 🔄.\n",
        "- A função deve retornar o valor convertido na nova moeda 💰.\n",
        "\n",
        "\n"
      ],
      "metadata": {
        "id": "MX5cnFJiTZEO"
      }
    },
    {
      "cell_type": "code",
      "source": [
        "def converter_moeda(valor, taxa_cambio):\n",
        "    return valor * taxa_cambio\n",
        "\n",
        "# Exemplo de uso da função\n",
        "valor_dolar = 50\n",
        "taxa_cambio = 5.25  # Taxa de câmbio do Dólar para Real\n",
        "valor_real = converter_moeda(valor_dolar, taxa_cambio)\n",
        "print(f\"R${valor_real} reais\")\n"
      ],
      "metadata": {
        "id": "7EvLTWa1TjWn",
        "colab": {
          "base_uri": "https://localhost:8080/"
        },
        "outputId": "537c2ac0-b89e-4da0-c796-3a88670be056"
      },
      "execution_count": null,
      "outputs": [
        {
          "output_type": "stream",
          "name": "stdout",
          "text": [
            "R$262.5 reais\n"
          ]
        }
      ]
    },
    {
      "cell_type": "markdown",
      "source": [
        "### Cálculo de Comissão de Vendas 💰\n",
        "Em uma empresa, os vendedores recebem comissões 💵 baseadas no valor das vendas que realizam. A taxa de comissão varia de acordo com o valor das vendas 📈.\n",
        "\n",
        "Crie uma função chamada `calcular_comissao` que aceita o `valor_vendas` e calcula a comissão do vendedor com base nos seguintes critérios 🧮:\n",
        "- Taxa de comissão de 5% para vendas até 5000 💸.\n",
        "- Taxa de comissão de 10% para vendas acima de 5000 📊.\n",
        "\n",
        "- A função deve receber um parâmetro `valor_vendas`, que é o montante total das vendas 🛒.\n",
        "- A função deve retornar o valor da comissão com base na taxa aplicável 🔢.\n",
        "\n",
        "\n"
      ],
      "metadata": {
        "id": "CSyH1SBZT4IF"
      }
    },
    {
      "cell_type": "code",
      "source": [
        "def calcular_comissao(valor_vendas):\n",
        "    \"\"\"\n",
        "    Calcula a comissão de um vendedor com base no valor das vendas.\n",
        "\n",
        "    :param valor_vendas: valor total das vendas realizadas.\n",
        "    :return: valor da comissão.\n",
        "    \"\"\"\n",
        "    if valor_vendas <= 5000:\n",
        "        taxa_comissao = 0.05  # 5% de comissão\n",
        "    else:\n",
        "        taxa_comissao = 0.10  # 10% de comissão\n",
        "\n",
        "    return valor_vendas * taxa_comissao\n",
        "\n",
        "# Exemplo de uso da função\n",
        "comissao_1 = calcular_comissao(4000)  # Vendas abaixo de 5000\n",
        "comissao_2 = calcular_comissao(6000)  # Vendas acima de 5000\n",
        "\n",
        "comissao_1, comissao_2\n"
      ],
      "metadata": {
        "colab": {
          "base_uri": "https://localhost:8080/"
        },
        "id": "Dl0cgBmUN4yq",
        "outputId": "76a95fbb-edd8-4870-e774-90340235123f"
      },
      "execution_count": null,
      "outputs": [
        {
          "output_type": "execute_result",
          "data": {
            "text/plain": [
              "(200.0, 600.0)"
            ]
          },
          "metadata": {},
          "execution_count": 5
        }
      ]
    },
    {
      "cell_type": "code",
      "source": [
        "def calcular_comissao(valor_vendas):\n",
        "    if valor_vendas <= 5000:\n",
        "        return valor_vendas * 0.05\n",
        "    else:\n",
        "        return valor_vendas * 0.10\n",
        "\n",
        "# Exemplo de uso da função\n",
        "valor_vendas = 6000\n",
        "comissao = calcular_comissao(valor_vendas)\n",
        "print(f\"A comissão é de: R${comissao:.2f}\")\n"
      ],
      "metadata": {
        "id": "0dtfElRqT74m",
        "colab": {
          "base_uri": "https://localhost:8080/"
        },
        "outputId": "17ac8b7c-163f-4a86-892c-b40b45e5cc7d"
      },
      "execution_count": null,
      "outputs": [
        {
          "output_type": "stream",
          "name": "stdout",
          "text": [
            "A comissão é de: R$600.00\n"
          ]
        }
      ]
    },
    {
      "cell_type": "markdown",
      "source": [
        "\n",
        "\n",
        "### Exercício: Avaliação de Impacto Ambiental de Produtos 🌍\n",
        "Você trabalha em uma empresa comprometida com as práticas de ESG (Ambiental, Social e Governança) 🌱 e precisa avaliar o impacto ambiental dos produtos da empresa com base em seus componentes. Cada componente possui uma classificação de impacto ambiental de 1 a 5, onde 1 representa o menor impacto e 5 o maior 📈.\n",
        "\n",
        "Desenvolva uma função em Python chamada `avaliar_impacto_ambiental` que recebe um dicionário representando os componentes de um produto e suas respectivas classificações de impacto ambiental 📊. A função deve calcular a média de impacto do produto e determinar se ele é considerado de alto impacto ambiental 🚨.\n",
        "\n",
        "#### Requisitos da Função:\n",
        "- A função deve aceitar um dicionário onde as chaves são os nomes dos componentes e os valores são suas classificações de impacto ambiental (exemplo: `{\"Plástico\": 4, \"Bateria\": 5, \"Papel\": 2}`).\n",
        "- Utilize um loop `for` para iterar sobre as classificações de impacto no dicionário 🔁.\n",
        "- Calcule a média de impacto ambiental do produto 🧮.\n",
        "- Utilize uma estrutura condicional `if` para determinar se o produto é de alto impacto ambiental 🔎.\n",
        "- A função deve retornar `True` se o produto for de alto impacto ambiental, e `False` caso contrário.\n",
        "\n",
        "#### Exemplo de Uso da Função:\n",
        "```python\n",
        "componentes = {\"Plástico\": 4, \"Bateria\": 5, \"Papel\": 2}\n",
        "produto_alto_impacto = avaliar_impacto_ambiental(componentes)\n",
        "print(\"Produto de alto impacto ambiental:\", produto_alto_impacto)\n",
        "\n",
        "\n"
      ],
      "metadata": {
        "id": "NdfNRc8YU7bT"
      }
    },
    {
      "cell_type": "code",
      "source": [
        "componentes = {\"Plástico\": 4, \"Bateria\": 5, \"Papel\": 2}\n",
        "\n",
        "for elemento, valor in componentes.items():\n",
        "  print(f\"O componente {elemento} tem  {valor}\")\n"
      ],
      "metadata": {
        "colab": {
          "base_uri": "https://localhost:8080/"
        },
        "id": "BFgsklx3O2kA",
        "outputId": "9c848afb-c35a-4dc6-d707-0c3182883834"
      },
      "execution_count": null,
      "outputs": [
        {
          "output_type": "stream",
          "name": "stdout",
          "text": [
            "O componente Plástico tem  4\n",
            "O componente Bateria tem  5\n",
            "O componente Papel tem  2\n"
          ]
        }
      ]
    },
    {
      "cell_type": "code",
      "source": [
        "#Solução Avaliação do Impacato Ambiental de Produtos\n",
        "def avaliar_impacto_ambiental(componentes):\n",
        "    \"\"\"\n",
        "    Avalia o impacto ambiental de um produto com base nas classificações de impacto ambiental de seus componentes.\n",
        "\n",
        "    :param componentes: dicionário com componentes e suas respectivas classificações de impacto ambiental.\n",
        "    :return: True se o produto for de alto impacto ambiental, False caso contrário.\n",
        "    \"\"\"\n",
        "    total_impacto = 0\n",
        "    n_componentes = len(componentes)\n",
        "\n",
        "    # Calculando a soma das classificações de impacto ambiental\n",
        "    for impacto in componentes.values():\n",
        "        total_impacto += impacto\n",
        "\n",
        "    # Calculando a média de impacto ambiental\n",
        "    media_impacto = total_impacto / n_componentes\n",
        "\n",
        "    # Determinando se o produto é de alto impacto ambiental\n",
        "    return media_impacto > 3\n",
        "\n",
        "# Exemplo de uso da função\n",
        "produto = {\"Plástico\": 4, \"Bateria\": 5, \"Papel\": 2}\n",
        "avaliar_impacto_ambiental(produto)\n"
      ],
      "metadata": {
        "id": "0QfPUjuZmNLL",
        "colab": {
          "base_uri": "https://localhost:8080/"
        },
        "outputId": "cdd1fb28-c67d-43cf-efd3-45d55d94fd70"
      },
      "execution_count": null,
      "outputs": [
        {
          "output_type": "execute_result",
          "data": {
            "text/plain": [
              "True"
            ]
          },
          "metadata": {},
          "execution_count": 14
        }
      ]
    },
    {
      "cell_type": "markdown",
      "source": [
        "## <font color='blue'> Manipulação de Dados com Pandas </font>"
      ],
      "metadata": {
        "id": "hB_Ang92h_HQ"
      }
    },
    {
      "cell_type": "markdown",
      "source": [
        "\n",
        "### DataFrame com Pandas 🐼📊\n",
        "O pacote `pandas` é uma ferramenta poderosa em Python utilizada para análise de dados 📈. Ele permite manipular dados de forma eficiente e é especialmente útil quando se lida com tabelas ou dados estruturados 📚. Uma das estruturas de dados centrais no `pandas` é o `DataFrame`, que é essencialmente uma tabela onde as linhas representam as entradas de dados e as colunas representam as variáveis 📉.\n",
        "\n",
        "Você tem um dicionário com dados de vendas de produtos e suas quantidades e valores 💰. Seu objetivo é transformar esse dicionário em um `DataFrame` do `pandas` para uma análise posterior mais conveniente 📋.\n",
        "\n",
        "```python\n",
        "vendas_produtos = {\n",
        "    \"Produto\": [\"Fone de Ouvido\", \"Película de Vidro\", \"Cabo\", \"Capa de Celular\"],\n",
        "    \"Quantidade\": [10, 5, 8, 12],\n",
        "    \"Valor\": [200, 150, 125, 300]\n",
        "}\n",
        "\n"
      ],
      "metadata": {
        "id": "qitJqrgOiunz"
      }
    },
    {
      "cell_type": "code",
      "source": [
        "vendas_produtos = {\n",
        "    \"Produto\": [\"Fone de Ouvido\", \"Película de Vidro\", \"Cabo\", \"Capa de Celular\"],\n",
        "    \"Quantidade\": [10, 5, 8, 12],\n",
        "    \"Valor\": [200, 150, 125, 300]}\n",
        "\n",
        "vendas_produtos[\"Produto\"]"
      ],
      "metadata": {
        "colab": {
          "base_uri": "https://localhost:8080/",
          "height": 35
        },
        "id": "ZW2-V0CbXGQX",
        "outputId": "d9044c08-6783-42f5-ec1d-bcaa433533f5"
      },
      "execution_count": null,
      "outputs": [
        {
          "output_type": "execute_result",
          "data": {
            "text/plain": [
              "'Fone de Ouvido'"
            ],
            "application/vnd.google.colaboratory.intrinsic+json": {
              "type": "string"
            }
          },
          "metadata": {},
          "execution_count": 17
        }
      ]
    },
    {
      "cell_type": "code",
      "source": [
        "#Solução DataFrame com Pandas\n",
        "\n",
        "# Primeiramente, vamos importar o pacote pandas.\n",
        "import pandas as pd\n",
        "\n",
        "# Agora, vamos transformar o dicionário fornecido em um DataFrame utilizando o pandas.\n",
        "vendas_produtos = {\n",
        "    \"Produto\": [\"Fone de Ouvido\", \"Película de Vidro\", \"Cabo\", \"Capa de Celular\"],\n",
        "    \"Quantidade\": [10, 5, 8, 12],\n",
        "    \"Valor\": [200, 150, 125, 300]\n",
        "}\n",
        "\n",
        "# Criando o DataFrame a partir do dicionário\n",
        "df_vendas = pd.DataFrame(vendas_produtos)\n",
        "df_vendas\n",
        "\n",
        "# Acessando a coluna \"Quantidade\"\n",
        "quantidades = df_vendas['Quantidade']\n",
        "\n",
        "# Criando o DataFrame a partir do dicionário\n",
        "df_vendas = pd.DataFrame(vendas_produtos)\n",
        "\n",
        "# Utilizando o método .describe() na coluna \"Valor\"\n",
        "descricao_valores = df_vendas['Produto'].describe()\n",
        "descricao_valores\n",
        "\n",
        "\n",
        "\n"
      ],
      "metadata": {
        "colab": {
          "base_uri": "https://localhost:8080/"
        },
        "id": "DymL3WYBjGvr",
        "outputId": "538d0b71-2db1-48e5-f822-2d4682f1c8a1"
      },
      "execution_count": null,
      "outputs": [
        {
          "output_type": "execute_result",
          "data": {
            "text/plain": [
              "Fone de Ouvido       1\n",
              "Película de Vidro    1\n",
              "Cabo                 1\n",
              "Capa de Celular      1\n",
              "Name: Produto, dtype: int64"
            ]
          },
          "metadata": {},
          "execution_count": 27
        }
      ]
    },
    {
      "cell_type": "markdown",
      "source": [
        "\n",
        "### Cálculo de Vendas Totais:\n",
        "Com o DataFrame criado a partir dos dados de vendas de produtos, seu objetivo é calcular a soma total das quantidades de produtos vendidos e a receita total gerada por essas vendas.\n",
        "\n",
        "- Utilize o método `sum()` do pandas para calcular a soma total da coluna \"Quantidade\" e da coluna \"Valor\".\n",
        "- Imprima o total de produtos vendidos e a receita total gerada.\n",
        "\n",
        "```python\n",
        "import pandas as pd\n",
        "\n",
        "# Dados fornecidos\n",
        "vendas_produtos = {\n",
        "    \"Produto\": [\"Fone de Ouvido\", \"Película de Vidro\", \"Cabo\", \"Capa de Celular\"],\n",
        "    \"Quantidade\": [10, 5, 8, 12],\n",
        "    \"Valor\": [200, 150, 125, 300]\n",
        "}\n",
        "\n",
        "# Criando o DataFrame\n",
        "df_vendas = pd.DataFrame(vendas_produtos)\n",
        "\n",
        "# Sua tarefa: calcular e imprimir o total de produtos vendidos e a receita total\n",
        "# Escreva seu código abaixo\n"
      ],
      "metadata": {
        "id": "oKaZh_zhkBHN"
      }
    },
    {
      "cell_type": "code",
      "source": [
        "#Solução Vendas Totais\n",
        "\n",
        "import pandas as pd\n",
        "\n",
        "# Dados fornecidos\n",
        "vendas_produtos = {\n",
        "    \"Produto\": [\"Fone de Ouvido\", \"Película de Vidro\", \"Cabo\", \"Capa de Celular\"],\n",
        "    \"Quantidade\": [10, 5, 8, 12],\n",
        "    \"Valor\": [200, 150, 125, 300]\n",
        "}\n",
        "\n",
        "# Criando o DataFrame\n",
        "df_vendas = pd.DataFrame(vendas_produtos)\n",
        "\n",
        "# Calculando o total de produtos vendidos\n",
        "total_produtos_vendidos = df_vendas[\"Quantidade\"].sum()\n",
        "\n",
        "# Calculando a receita total (Quantidade * Valor)\n",
        "df_vendas[\"Receita\"] = df_vendas[\"Quantidade\"] * df_vendas[\"Valor\"]\n",
        "receita_total = df_vendas[\"Receita\"].sum()\n",
        "\n",
        "total_produtos_vendidos, receita_total\n",
        "\n",
        "condicao = (df_vendas[\"Receita\"] >= 1000) & (df_vendas[\"Quantidade\"] >= 10)\n",
        "\n",
        "df_vendas[condicao]\n",
        "condicao\n"
      ],
      "metadata": {
        "id": "3kNeIhXTkHzK",
        "colab": {
          "base_uri": "https://localhost:8080/"
        },
        "outputId": "d821e611-fbb2-4fcd-edd9-b59cd9fb8846"
      },
      "execution_count": null,
      "outputs": [
        {
          "output_type": "execute_result",
          "data": {
            "text/plain": [
              "0     True\n",
              "1    False\n",
              "2    False\n",
              "3     True\n",
              "dtype: bool"
            ]
          },
          "metadata": {},
          "execution_count": 40
        }
      ]
    },
    {
      "cell_type": "markdown",
      "source": [
        "### Contagem de Vendas por Produto 🛒📊\n",
        "Para uma análise detalhada do desempenho dos produtos, é útil saber quantas vezes cada produto foi vendido 📈. No DataFrame de vendas de produtos, conte quantas vezes cada produto aparece.\n",
        "\n",
        "- Aplique o método `value_counts()` à coluna \"Produto\" do DataFrame `df_vendas` para determinar a frequência de vendas de cada produto 📝.\n",
        "- Imprima o resultado da contagem para cada produto 🖨️.\n",
        "\n",
        "```python\n",
        "import pandas as pd\n",
        "\n",
        "# Dados fornecidos anteriormente\n",
        "vendas_produtos = {\n",
        "    \"Produto\": [\"Fone de Ouvido\", \"Película de Vidro\", \"Cabo\", \"Capa de Celular\"],\n",
        "    \"Quantidade\": [10, 5, 8, 12],\n",
        "    \"Valor\": [200, 150, 125, 300]\n",
        "}\n",
        "\n",
        "# Criando o DataFrame a partir do dicionário\n",
        "df_vendas = pd.DataFrame(vendas_produtos)\n",
        "\n",
        "# Sua tarefa: Use o método value_counts() na coluna \"Produto\"\n",
        "# Escreva seu código abaixo\n",
        "\n"
      ],
      "metadata": {
        "id": "maj5_mIIkQHH"
      }
    },
    {
      "cell_type": "code",
      "source": [
        "#Solução Vendas por Produto\n",
        "\n",
        "# Aplicando o método value_counts() na coluna \"Produto\" do DataFrame df_vendas\n",
        "contagem_produtos = df_vendas[\"Produto\"].value_counts()\n",
        "\n",
        "contagem_produtos\n"
      ],
      "metadata": {
        "id": "Bwf4CP10k6z4",
        "colab": {
          "base_uri": "https://localhost:8080/"
        },
        "outputId": "c67ce997-f78f-4ea0-f3ba-492d7258ddfa"
      },
      "execution_count": null,
      "outputs": [
        {
          "output_type": "execute_result",
          "data": {
            "text/plain": [
              "Fone de Ouvido       1\n",
              "Película de Vidro    1\n",
              "Cabo                 1\n",
              "Capa de Celular      1\n",
              "Name: Produto, dtype: int64"
            ]
          },
          "metadata": {},
          "execution_count": 41
        }
      ]
    },
    {
      "cell_type": "markdown",
      "source": [
        "\n",
        "### Agrupamento de Vendas por Produto 📈🛍️\n",
        "Você deseja realizar uma análise mais detalhada das vendas, agrupando os dados por produto para calcular a quantidade total e a receita total para cada item vendido 💹.\n",
        "\n",
        "- Utilize o método `groupby()` para agrupar as vendas no DataFrame `df_vendas` com base na coluna \"Produto\" 📊.\n",
        "- Calcule a soma total das colunas \"Quantidade\" e \"Valor\" para cada grupo de produtos 🔢.\n",
        "- Imprima a quantidade total e a receita total de cada produto 💰.\n",
        "\n",
        "```python\n",
        "import pandas as pd\n",
        "\n",
        "# Dados fornecidos anteriormente\n",
        "vendas_produtos = {\n",
        "    \"Produto\": [\"Fone de Ouvido\", \"Película de Vidro\", \"Cabo\", \"Capa de Celular\"],\n",
        "    \"Quantidade\": [10, 5, 8, 12],\n",
        "    \"Valor\": [200, 150, 125, 300]\n",
        "}\n",
        "\n",
        "# Criando o DataFrame a partir do dicionário\n",
        "df_vendas = pd.DataFrame(vendas_produtos)\n",
        "\n",
        "# Sua tarefa: Agrupe os dados por produto e calcule a soma das colunas \"Quantidade\" e \"Valor\"\n",
        "# Escreva seu código abaixo\n"
      ],
      "metadata": {
        "id": "klsLCZbYlAIF"
      }
    },
    {
      "cell_type": "code",
      "source": [
        "#Solução Agrupamento de Vendas por Produtos\n",
        "\n",
        "# Agrupando os dados por produto e calculando a soma total de 'Quantidade' e 'Valor' para cada grupo\n",
        "agrupamento = df_vendas.groupby(\"Produto\").sum()\n",
        "\n",
        "# Adicionando uma coluna 'Receita' que é o produto de 'Quantidade' e 'Valor' para cada grupo\n",
        "agrupamento[\"Receita\"] = agrupamento[\"Quantidade\"] * agrupamento[\"Valor\"]\n",
        "\n",
        "agrupamento[['Quantidade', 'Receita']]\n",
        "\n",
        "agrupamento\n"
      ],
      "metadata": {
        "id": "Vy2Ibg9QlSPy",
        "colab": {
          "base_uri": "https://localhost:8080/",
          "height": 206
        },
        "outputId": "0e3b4125-64ea-477b-f042-5b1e11024862"
      },
      "execution_count": null,
      "outputs": [
        {
          "output_type": "execute_result",
          "data": {
            "text/plain": [
              "                   Quantidade  Valor  Receita\n",
              "Produto                                      \n",
              "Cabo                        8    125     1000\n",
              "Capa de Celular            12    300     3600\n",
              "Fone de Ouvido             10    200     2000\n",
              "Película de Vidro           5    150      750"
            ],
            "text/html": [
              "\n",
              "  <div id=\"df-72e83533-fe52-4495-920a-11b06cb0263a\" class=\"colab-df-container\">\n",
              "    <div>\n",
              "<style scoped>\n",
              "    .dataframe tbody tr th:only-of-type {\n",
              "        vertical-align: middle;\n",
              "    }\n",
              "\n",
              "    .dataframe tbody tr th {\n",
              "        vertical-align: top;\n",
              "    }\n",
              "\n",
              "    .dataframe thead th {\n",
              "        text-align: right;\n",
              "    }\n",
              "</style>\n",
              "<table border=\"1\" class=\"dataframe\">\n",
              "  <thead>\n",
              "    <tr style=\"text-align: right;\">\n",
              "      <th></th>\n",
              "      <th>Quantidade</th>\n",
              "      <th>Valor</th>\n",
              "      <th>Receita</th>\n",
              "    </tr>\n",
              "    <tr>\n",
              "      <th>Produto</th>\n",
              "      <th></th>\n",
              "      <th></th>\n",
              "      <th></th>\n",
              "    </tr>\n",
              "  </thead>\n",
              "  <tbody>\n",
              "    <tr>\n",
              "      <th>Cabo</th>\n",
              "      <td>8</td>\n",
              "      <td>125</td>\n",
              "      <td>1000</td>\n",
              "    </tr>\n",
              "    <tr>\n",
              "      <th>Capa de Celular</th>\n",
              "      <td>12</td>\n",
              "      <td>300</td>\n",
              "      <td>3600</td>\n",
              "    </tr>\n",
              "    <tr>\n",
              "      <th>Fone de Ouvido</th>\n",
              "      <td>10</td>\n",
              "      <td>200</td>\n",
              "      <td>2000</td>\n",
              "    </tr>\n",
              "    <tr>\n",
              "      <th>Película de Vidro</th>\n",
              "      <td>5</td>\n",
              "      <td>150</td>\n",
              "      <td>750</td>\n",
              "    </tr>\n",
              "  </tbody>\n",
              "</table>\n",
              "</div>\n",
              "    <div class=\"colab-df-buttons\">\n",
              "\n",
              "  <div class=\"colab-df-container\">\n",
              "    <button class=\"colab-df-convert\" onclick=\"convertToInteractive('df-72e83533-fe52-4495-920a-11b06cb0263a')\"\n",
              "            title=\"Convert this dataframe to an interactive table.\"\n",
              "            style=\"display:none;\">\n",
              "\n",
              "  <svg xmlns=\"http://www.w3.org/2000/svg\" height=\"24px\" viewBox=\"0 -960 960 960\">\n",
              "    <path d=\"M120-120v-720h720v720H120Zm60-500h600v-160H180v160Zm220 220h160v-160H400v160Zm0 220h160v-160H400v160ZM180-400h160v-160H180v160Zm440 0h160v-160H620v160ZM180-180h160v-160H180v160Zm440 0h160v-160H620v160Z\"/>\n",
              "  </svg>\n",
              "    </button>\n",
              "\n",
              "  <style>\n",
              "    .colab-df-container {\n",
              "      display:flex;\n",
              "      gap: 12px;\n",
              "    }\n",
              "\n",
              "    .colab-df-convert {\n",
              "      background-color: #E8F0FE;\n",
              "      border: none;\n",
              "      border-radius: 50%;\n",
              "      cursor: pointer;\n",
              "      display: none;\n",
              "      fill: #1967D2;\n",
              "      height: 32px;\n",
              "      padding: 0 0 0 0;\n",
              "      width: 32px;\n",
              "    }\n",
              "\n",
              "    .colab-df-convert:hover {\n",
              "      background-color: #E2EBFA;\n",
              "      box-shadow: 0px 1px 2px rgba(60, 64, 67, 0.3), 0px 1px 3px 1px rgba(60, 64, 67, 0.15);\n",
              "      fill: #174EA6;\n",
              "    }\n",
              "\n",
              "    .colab-df-buttons div {\n",
              "      margin-bottom: 4px;\n",
              "    }\n",
              "\n",
              "    [theme=dark] .colab-df-convert {\n",
              "      background-color: #3B4455;\n",
              "      fill: #D2E3FC;\n",
              "    }\n",
              "\n",
              "    [theme=dark] .colab-df-convert:hover {\n",
              "      background-color: #434B5C;\n",
              "      box-shadow: 0px 1px 3px 1px rgba(0, 0, 0, 0.15);\n",
              "      filter: drop-shadow(0px 1px 2px rgba(0, 0, 0, 0.3));\n",
              "      fill: #FFFFFF;\n",
              "    }\n",
              "  </style>\n",
              "\n",
              "    <script>\n",
              "      const buttonEl =\n",
              "        document.querySelector('#df-72e83533-fe52-4495-920a-11b06cb0263a button.colab-df-convert');\n",
              "      buttonEl.style.display =\n",
              "        google.colab.kernel.accessAllowed ? 'block' : 'none';\n",
              "\n",
              "      async function convertToInteractive(key) {\n",
              "        const element = document.querySelector('#df-72e83533-fe52-4495-920a-11b06cb0263a');\n",
              "        const dataTable =\n",
              "          await google.colab.kernel.invokeFunction('convertToInteractive',\n",
              "                                                    [key], {});\n",
              "        if (!dataTable) return;\n",
              "\n",
              "        const docLinkHtml = 'Like what you see? Visit the ' +\n",
              "          '<a target=\"_blank\" href=https://colab.research.google.com/notebooks/data_table.ipynb>data table notebook</a>'\n",
              "          + ' to learn more about interactive tables.';\n",
              "        element.innerHTML = '';\n",
              "        dataTable['output_type'] = 'display_data';\n",
              "        await google.colab.output.renderOutput(dataTable, element);\n",
              "        const docLink = document.createElement('div');\n",
              "        docLink.innerHTML = docLinkHtml;\n",
              "        element.appendChild(docLink);\n",
              "      }\n",
              "    </script>\n",
              "  </div>\n",
              "\n",
              "\n",
              "<div id=\"df-070c5dc4-b8e9-499e-abb0-6e804d8bbd05\">\n",
              "  <button class=\"colab-df-quickchart\" onclick=\"quickchart('df-070c5dc4-b8e9-499e-abb0-6e804d8bbd05')\"\n",
              "            title=\"Suggest charts\"\n",
              "            style=\"display:none;\">\n",
              "\n",
              "<svg xmlns=\"http://www.w3.org/2000/svg\" height=\"24px\"viewBox=\"0 0 24 24\"\n",
              "     width=\"24px\">\n",
              "    <g>\n",
              "        <path d=\"M19 3H5c-1.1 0-2 .9-2 2v14c0 1.1.9 2 2 2h14c1.1 0 2-.9 2-2V5c0-1.1-.9-2-2-2zM9 17H7v-7h2v7zm4 0h-2V7h2v10zm4 0h-2v-4h2v4z\"/>\n",
              "    </g>\n",
              "</svg>\n",
              "  </button>\n",
              "\n",
              "<style>\n",
              "  .colab-df-quickchart {\n",
              "      --bg-color: #E8F0FE;\n",
              "      --fill-color: #1967D2;\n",
              "      --hover-bg-color: #E2EBFA;\n",
              "      --hover-fill-color: #174EA6;\n",
              "      --disabled-fill-color: #AAA;\n",
              "      --disabled-bg-color: #DDD;\n",
              "  }\n",
              "\n",
              "  [theme=dark] .colab-df-quickchart {\n",
              "      --bg-color: #3B4455;\n",
              "      --fill-color: #D2E3FC;\n",
              "      --hover-bg-color: #434B5C;\n",
              "      --hover-fill-color: #FFFFFF;\n",
              "      --disabled-bg-color: #3B4455;\n",
              "      --disabled-fill-color: #666;\n",
              "  }\n",
              "\n",
              "  .colab-df-quickchart {\n",
              "    background-color: var(--bg-color);\n",
              "    border: none;\n",
              "    border-radius: 50%;\n",
              "    cursor: pointer;\n",
              "    display: none;\n",
              "    fill: var(--fill-color);\n",
              "    height: 32px;\n",
              "    padding: 0;\n",
              "    width: 32px;\n",
              "  }\n",
              "\n",
              "  .colab-df-quickchart:hover {\n",
              "    background-color: var(--hover-bg-color);\n",
              "    box-shadow: 0 1px 2px rgba(60, 64, 67, 0.3), 0 1px 3px 1px rgba(60, 64, 67, 0.15);\n",
              "    fill: var(--button-hover-fill-color);\n",
              "  }\n",
              "\n",
              "  .colab-df-quickchart-complete:disabled,\n",
              "  .colab-df-quickchart-complete:disabled:hover {\n",
              "    background-color: var(--disabled-bg-color);\n",
              "    fill: var(--disabled-fill-color);\n",
              "    box-shadow: none;\n",
              "  }\n",
              "\n",
              "  .colab-df-spinner {\n",
              "    border: 2px solid var(--fill-color);\n",
              "    border-color: transparent;\n",
              "    border-bottom-color: var(--fill-color);\n",
              "    animation:\n",
              "      spin 1s steps(1) infinite;\n",
              "  }\n",
              "\n",
              "  @keyframes spin {\n",
              "    0% {\n",
              "      border-color: transparent;\n",
              "      border-bottom-color: var(--fill-color);\n",
              "      border-left-color: var(--fill-color);\n",
              "    }\n",
              "    20% {\n",
              "      border-color: transparent;\n",
              "      border-left-color: var(--fill-color);\n",
              "      border-top-color: var(--fill-color);\n",
              "    }\n",
              "    30% {\n",
              "      border-color: transparent;\n",
              "      border-left-color: var(--fill-color);\n",
              "      border-top-color: var(--fill-color);\n",
              "      border-right-color: var(--fill-color);\n",
              "    }\n",
              "    40% {\n",
              "      border-color: transparent;\n",
              "      border-right-color: var(--fill-color);\n",
              "      border-top-color: var(--fill-color);\n",
              "    }\n",
              "    60% {\n",
              "      border-color: transparent;\n",
              "      border-right-color: var(--fill-color);\n",
              "    }\n",
              "    80% {\n",
              "      border-color: transparent;\n",
              "      border-right-color: var(--fill-color);\n",
              "      border-bottom-color: var(--fill-color);\n",
              "    }\n",
              "    90% {\n",
              "      border-color: transparent;\n",
              "      border-bottom-color: var(--fill-color);\n",
              "    }\n",
              "  }\n",
              "</style>\n",
              "\n",
              "  <script>\n",
              "    async function quickchart(key) {\n",
              "      const quickchartButtonEl =\n",
              "        document.querySelector('#' + key + ' button');\n",
              "      quickchartButtonEl.disabled = true;  // To prevent multiple clicks.\n",
              "      quickchartButtonEl.classList.add('colab-df-spinner');\n",
              "      try {\n",
              "        const charts = await google.colab.kernel.invokeFunction(\n",
              "            'suggestCharts', [key], {});\n",
              "      } catch (error) {\n",
              "        console.error('Error during call to suggestCharts:', error);\n",
              "      }\n",
              "      quickchartButtonEl.classList.remove('colab-df-spinner');\n",
              "      quickchartButtonEl.classList.add('colab-df-quickchart-complete');\n",
              "    }\n",
              "    (() => {\n",
              "      let quickchartButtonEl =\n",
              "        document.querySelector('#df-070c5dc4-b8e9-499e-abb0-6e804d8bbd05 button');\n",
              "      quickchartButtonEl.style.display =\n",
              "        google.colab.kernel.accessAllowed ? 'block' : 'none';\n",
              "    })();\n",
              "  </script>\n",
              "</div>\n",
              "    </div>\n",
              "  </div>\n"
            ]
          },
          "metadata": {},
          "execution_count": 44
        }
      ]
    },
    {
      "cell_type": "markdown",
      "source": [
        "### Análise do Preço Médio de Produtos 💹🔍\n",
        "Após realizar algumas análises básicas com o DataFrame `df_vendas`, você está diante de um desafio maior: entender a rentabilidade de cada produto vendido 💰. Rentabilidade é entendida como o valor das vendas dividido pela quantidade vendida, o que oferece o preço médio de venda de cada produto 📊.\n",
        "\n",
        "- Adicione uma nova coluna ao DataFrame `df_vendas` chamada \"Preço Médio\" que represente o preço médio de venda de cada produto 🏷️.\n",
        "- Ordene o DataFrame pelo \"Preço Médio\" em ordem decrescente para descobrir quais produtos têm o maior preço médio de venda 🔝.\n",
        "- Analise se existe alguma correlação visível entre a quantidade vendida e o preço médio dos produtos 📈.\n",
        "\n",
        "```python\n",
        "import pandas as pd\n",
        "\n",
        "# Dados de vendas de produtos fornecidos anteriormente\n",
        "vendas_produtos = {\n",
        "    \"Produto\": [\"Fone de Ouvido\", \"Película de Vidro\", \"Cabo\", \"Capa de Celular\"],\n",
        "    \"Quantidade\": [10, 5, 8, 12],\n",
        "    \"Valor\": [200, 150, 125, 300]\n",
        "}\n",
        "\n",
        "# Criando o DataFrame a partir do dicionário\n",
        "df_vendas = pd.DataFrame(vendas_produtos)\n",
        "\n",
        "\n",
        "\n"
      ],
      "metadata": {
        "id": "0IY5j-rGlWY4"
      }
    },
    {
      "cell_type": "code",
      "source": [
        "#Solução Preço Médio de Produtos\n",
        "\n",
        "# Calculando o preço médio de venda de cada produto\n",
        "df_vendas[\"Preço Médio\"] = df_vendas[\"Valor\"] / df_vendas[\"Quantidade\"]\n",
        "\n",
        "# Ordenando o DataFrame pelo \"Preço Médio\" em ordem decrescente\n",
        "df_vendas_ordenado = df_vendas.sort_values(\"Preço Médio\", ascending=False)\n",
        "\n",
        "# Analisando a correlação entre 'Quantidade' e 'Preço Médio'\n",
        "correlacao = df_vendas[[\"Quantidade\", \"Preço Médio\"]].corr()\n",
        "\n",
        "df_vendas_ordenado, correlacao\n",
        "\n"
      ],
      "metadata": {
        "id": "RxxIXY5ymTDy",
        "colab": {
          "base_uri": "https://localhost:8080/"
        },
        "outputId": "48d2a570-4c5a-47c8-9fbb-315cd2201bea"
      },
      "execution_count": null,
      "outputs": [
        {
          "output_type": "execute_result",
          "data": {
            "text/plain": [
              "(             Produto  Quantidade  Valor  Receita  Preço Médio\n",
              " 1  Película de Vidro           5    150      750       30.000\n",
              " 3    Capa de Celular          12    300     3600       25.000\n",
              " 0     Fone de Ouvido          10    200     2000       20.000\n",
              " 2               Cabo           8    125     1000       15.625,\n",
              "              Quantidade  Preço Médio\n",
              " Quantidade     1.000000    -0.322686\n",
              " Preço Médio   -0.322686     1.000000)"
            ]
          },
          "metadata": {},
          "execution_count": 45
        }
      ]
    },
    {
      "cell_type": "markdown",
      "source": [
        "## <font color='blue'> Visualização de Graficos </font>"
      ],
      "metadata": {
        "id": "cKa0hrSNnJ5G"
      }
    },
    {
      "cell_type": "code",
      "source": [
        "#Gráfico de barras\n",
        "#Gráfico de pizza\n",
        "#Gráfico de Linha\n",
        "#Gráfico Box-Plot com diversos atributos"
      ],
      "metadata": {
        "id": "Ip9ZATAoPK1c"
      },
      "execution_count": null,
      "outputs": []
    },
    {
      "cell_type": "code",
      "source": [
        "import matplotlib.pyplot as plt\n",
        "import numpy as np\n",
        "\n",
        "# Exemplo de dados na área de finanças\n",
        "categorias = ['Receitas', 'Despesas', 'Lucro']\n",
        "valores = [120000, 80000, 40000]\n",
        "\n",
        "fig, ax = plt.subplots()\n",
        "\n",
        "# Criando um gráfico de barras\n",
        "ax.bar(categorias, valores, color=['blue', 'red', 'green'])\n",
        "\n",
        "# Adicionando título e rótulos\n",
        "ax.set_title('Demonstrativo Financeiro Anual')\n",
        "ax.set_ylabel('Valor em R$')\n",
        "ax.set_xlabel('Categorias')\n",
        "\n",
        "# Mostrando valores em cima das barras\n",
        "for i, valor in enumerate(valores):\n",
        "    ax.text(i, valor + 2000, f'R$ {valor:,}', ha='center')\n",
        "\n",
        "plt.show()\n"
      ],
      "metadata": {
        "colab": {
          "base_uri": "https://localhost:8080/",
          "height": 472
        },
        "id": "aCJ9mUw5QaYd",
        "outputId": "6477e7d3-b106-4d9b-cd14-440ea7d9a234"
      },
      "execution_count": null,
      "outputs": [
        {
          "output_type": "display_data",
          "data": {
            "text/plain": [
              "<Figure size 640x480 with 1 Axes>"
            ],
            "image/png": "[encoded data removed]"
          },
          "metadata": {}
        }
      ]
    },
    {
      "cell_type": "code",
      "source": [
        "import matplotlib.pyplot as plt\n",
        "import seaborn as sns\n",
        "\n",
        "# Exemplo de dados na área de marketing\n",
        "categorias = ['Mídias Sociais', 'E-mail', 'SEO', 'PPC', 'Outros']\n",
        "valores = [30, 20, 25, 15, 10]\n",
        "\n",
        "# Criando um gráfico de pizza\n",
        "plt.figure(figsize=(4, 4))\n",
        "plt.pie(valores, labels=categorias, autopct='%1.0f%%', startangle=140, colors=sns.color_palette('bright'))\n",
        "\n",
        "# Adicionando título\n",
        "plt.title('Distribuição do Orçamento de Marketing')\n",
        "\n",
        "plt.show()\n"
      ],
      "metadata": {
        "colab": {
          "base_uri": "https://localhost:8080/",
          "height": 367
        },
        "id": "Y3oBahNQRLXY",
        "outputId": "b1bea085-2930-473e-c173-953c9177a97d"
      },
      "execution_count": null,
      "outputs": [
        {
          "output_type": "display_data",
          "data": {
            "text/plain": [
              "<Figure size 400x400 with 1 Axes>"
            ],
            "image/png": "[encoded data removed]"
          },
          "metadata": {}
        }
      ]
    },
    {
      "cell_type": "code",
      "source": [
        "import pandas as pd\n",
        "import seaborn as sns\n",
        "\n",
        "# Exemplo de dados de série temporal de vendas\n",
        "meses = ['Jan', 'Fev', 'Mar', 'Abr', 'Mai', 'Jun', 'Jul', 'Ago', 'Set', 'Out', 'Nov', 'Dez']\n",
        "vendas = [200, 220, 250, 270, 300, 320, 350, 330, 310, 300, 280, 260]\n",
        "\n",
        "# Criando um DataFrame\n",
        "df_vendas = pd.DataFrame({'Mês': meses, 'Vendas': vendas})\n",
        "\n",
        "# Criando um gráfico de linha\n",
        "plt.figure(figsize=(10, 6))\n",
        "sns.lineplot(data=df_vendas, x='Mês', y='Vendas', marker='o')\n",
        "\n",
        "# Adicionando título e rótulos\n",
        "plt.title('Vendas ao Longo dos Meses')\n",
        "plt.xlabel('Mês')\n",
        "plt.ylabel('Vendas (unidades)')\n",
        "\n",
        "plt.show()\n"
      ],
      "metadata": {
        "colab": {
          "base_uri": "https://localhost:8080/",
          "height": 564
        },
        "id": "s1MiRuNnR45N",
        "outputId": "89903503-7148-4937-9986-86d7804d85cf"
      },
      "execution_count": null,
      "outputs": [
        {
          "output_type": "display_data",
          "data": {
            "text/plain": [
              "<Figure size 1000x600 with 1 Axes>"
            ],
            "image/png": "[encoded data removed]"
          },
          "metadata": {}
        }
      ]
    },
    {
      "cell_type": "code",
      "source": [
        "import seaborn as sns\n",
        "import pandas as pd\n",
        "\n",
        "# Exemplo de dados de marketing com vários atributos\n",
        "data = {\n",
        "    'Mídias Sociais': [50, 60, 45, 55, 65, 70, 60, 55, 50, 58],\n",
        "    'E-mail': [40, 35, 30, 45, 50, 55, 40, 42, 44, 35],\n",
        "    'SEO': [70, 75, 80, 65, 60, 80, 75, 70, 68, 72],\n",
        "    'PPC': [55, 60, 50, 65, 70, 75, 60, 55, 53, 58]\n",
        "}\n",
        "\n",
        "# Convertendo em DataFrame\n",
        "df_marketing = pd.DataFrame(data)\n",
        "\n",
        "# Criando um gráfico de box plot\n",
        "plt.figure(figsize=(10, 6))\n",
        "sns.boxplot(data=df_marketing)\n",
        "\n",
        "# Adicionando título e rótulos\n",
        "plt.title('Distribuição dos Resultados de Marketing por Canal')\n",
        "plt.ylabel('Performance')\n",
        "\n",
        "plt.show()\n"
      ],
      "metadata": {
        "colab": {
          "base_uri": "https://localhost:8080/",
          "height": 545
        },
        "id": "Md0KunD5SuWT",
        "outputId": "24754eb8-d9fd-4b34-cd5a-3af2db446464"
      },
      "execution_count": null,
      "outputs": [
        {
          "output_type": "display_data",
          "data": {
            "text/plain": [
              "<Figure size 1000x600 with 1 Axes>"
            ],
            "image/png": "[encoded data removed]"
          },
          "metadata": {}
        }
      ]
    },
    {
      "cell_type": "code",
      "source": [
        "import plotly.express as px\n",
        "\n",
        "# Utilizando os mesmos dados do exemplo anterior\n",
        "data = {\n",
        "    'Mídias Sociais': [50, 60, 45, 55, 65, 70, 60, 55, 50, 58],\n",
        "    'E-mail': [40, 35, 30, 45, 50, 55, 40, 42, 44, 35],\n",
        "    'SEO': [70, 75, 80, 65, 60, 80, 75, 70, 68, 72],\n",
        "    'PPC': [55, 60, 50, 65, 70, 75, 60, 55, 53, 58]\n",
        "}\n",
        "\n",
        "# Convertendo em DataFrame e ajustando para formato longo\n",
        "df_marketing = pd.DataFrame(data).melt(var_name='Canal', value_name='Performance')\n",
        "\n",
        "# Criando um gráfico de box plot com Plotly\n",
        "fig = px.box(df_marketing, x='Canal', y='Performance', title='Distribuição dos Resultados de Marketing por Canal')\n",
        "\n",
        "# Mostrando o gráfico\n",
        "fig.show()\n"
      ],
      "metadata": {
        "colab": {
          "base_uri": "https://localhost:8080/",
          "height": 542
        },
        "id": "dfFor587TMdH",
        "outputId": "bb502f10-ed1f-43f2-c57a-25569fb24b06"
      },
      "execution_count": null,
      "outputs": [
        {
          "output_type": "display_data",
          "data": {
            "text/html": [
              "<html>\n",
              "<head><meta charset=\"utf-8\" /></head>\n",
              "<body>\n",
              "    <div>            <script src=\"https://cdnjs.cloudflare.com/ajax/libs/mathjax/2.7.5/MathJax.js?config=TeX-AMS-MML_SVG\"></script><script type=\"text/javascript\">if (window.MathJax && window.MathJax.Hub && window.MathJax.Hub.Config) {window.MathJax.Hub.Config({SVG: {font: \"STIX-Web\"}});}</script>                <script type=\"text/javascript\">window.PlotlyConfig = {MathJaxConfig: 'local'};</script>\n",
              "        <script charset=\"utf-8\" src=\"https://cdn.plot.ly/plotly-2.24.1.min.js\"></script>                <div id=\"19d0f89b-3d6c-4d63-a1f6-3cbf62716c22\" class=\"plotly-graph-div\" style=\"height:525px; width:100%;\"></div>            <script type=\"text/javascript\">                                    window.PLOTLYENV=window.PLOTLYENV || {};                                    if (document.getElementById(\"19d0f89b-3d6c-4d63-a1f6-3cbf62716c22\")) {                    Plotly.newPlot(                        \"19d0f89b-3d6c-4d63-a1f6-3cbf62716c22\",                        [{\"alignmentgroup\":\"True\",\"hovertemplate\":\"Canal=%{x}\\u003cbr\\u003ePerformance=%{y}\\u003cextra\\u003e\\u003c\\u002fextra\\u003e\",\"legendgroup\":\"\",\"marker\":{\"color\":\"#636efa\"},\"name\":\"\",\"notched\":false,\"offsetgroup\":\"\",\"orientation\":\"v\",\"showlegend\":false,\"x\":[\"M\\u00eddias Sociais\",\"M\\u00eddias Sociais\",\"M\\u00eddias Sociais\",\"M\\u00eddias Sociais\",\"M\\u00eddias Sociais\",\"M\\u00eddias Sociais\",\"M\\u00eddias Sociais\",\"M\\u00eddias Sociais\",\"M\\u00eddias Sociais\",\"M\\u00eddias Sociais\",\"E-mail\",\"E-mail\",\"E-mail\",\"E-mail\",\"E-mail\",\"E-mail\",\"E-mail\",\"E-mail\",\"E-mail\",\"E-mail\",\"SEO\",\"SEO\",\"SEO\",\"SEO\",\"SEO\",\"SEO\",\"SEO\",\"SEO\",\"SEO\",\"SEO\",\"PPC\",\"PPC\",\"PPC\",\"PPC\",\"PPC\",\"PPC\",\"PPC\",\"PPC\",\"PPC\",\"PPC\"],\"x0\":\" \",\"xaxis\":\"x\",\"y\":[50,60,45,55,65,70,60,55,50,58,40,35,30,45,50,55,40,42,44,35,70,75,80,65,60,80,75,70,68,72,55,60,50,65,70,75,60,55,53,58],\"y0\":\" \",\"yaxis\":\"y\",\"type\":\"box\"}],                        {\"template\":{\"data\":{\"histogram2dcontour\":[{\"type\":\"histogram2dcontour\",\"colorbar\":{\"outlinewidth\":0,\"ticks\":\"\"},\"colorscale\":[[0.0,\"#0d0887\"],[0.1111111111111111,\"#46039f\"],[0.2222222222222222,\"#7201a8\"],[0.3333333333333333,\"#9c179e\"],[0.4444444444444444,\"#bd3786\"],[0.5555555555555556,\"#d8576b\"],[0.6666666666666666,\"#ed7953\"],[0.7777777777777778,\"#fb9f3a\"],[0.8888888888888888,\"#fdca26\"],[1.0,\"#f0f921\"]]}],\"choropleth\":[{\"type\":\"choropleth\",\"colorbar\":{\"outlinewidth\":0,\"ticks\":\"\"}}],\"histogram2d\":[{\"type\":\"histogram2d\",\"colorbar\":{\"outlinewidth\":0,\"ticks\":\"\"},\"colorscale\":[[0.0,\"#0d0887\"],[0.1111111111111111,\"#46039f\"],[0.2222222222222222,\"#7201a8\"],[0.3333333333333333,\"#9c179e\"],[0.4444444444444444,\"#bd3786\"],[0.5555555555555556,\"#d8576b\"],[0.6666666666666666,\"#ed7953\"],[0.7777777777777778,\"#fb9f3a\"],[0.8888888888888888,\"#fdca26\"],[1.0,\"#f0f921\"]]}],\"heatmap\":[{\"type\":\"heatmap\",\"colorbar\":{\"outlinewidth\":0,\"ticks\":\"\"},\"colorscale\":[[0.0,\"#0d0887\"],[0.1111111111111111,\"#46039f\"],[0.2222222222222222,\"#7201a8\"],[0.3333333333333333,\"#9c179e\"],[0.4444444444444444,\"#bd3786\"],[0.5555555555555556,\"#d8576b\"],[0.6666666666666666,\"#ed7953\"],[0.7777777777777778,\"#fb9f3a\"],[0.8888888888888888,\"#fdca26\"],[1.0,\"#f0f921\"]]}],\"heatmapgl\":[{\"type\":\"heatmapgl\",\"colorbar\":{\"outlinewidth\":0,\"ticks\":\"\"},\"colorscale\":[[0.0,\"#0d0887\"],[0.1111111111111111,\"#46039f\"],[0.2222222222222222,\"#7201a8\"],[0.3333333333333333,\"#9c179e\"],[0.4444444444444444,\"#bd3786\"],[0.5555555555555556,\"#d8576b\"],[0.6666666666666666,\"#ed7953\"],[0.7777777777777778,\"#fb9f3a\"],[0.8888888888888888,\"#fdca26\"],[1.0,\"#f0f921\"]]}],\"contourcarpet\":[{\"type\":\"contourcarpet\",\"colorbar\":{\"outlinewidth\":0,\"ticks\":\"\"}}],\"contour\":[{\"type\":\"contour\",\"colorbar\":{\"outlinewidth\":0,\"ticks\":\"\"},\"colorscale\":[[0.0,\"#0d0887\"],[0.1111111111111111,\"#46039f\"],[0.2222222222222222,\"#7201a8\"],[0.3333333333333333,\"#9c179e\"],[0.4444444444444444,\"#bd3786\"],[0.5555555555555556,\"#d8576b\"],[0.6666666666666666,\"#ed7953\"],[0.7777777777777778,\"#fb9f3a\"],[0.8888888888888888,\"#fdca26\"],[1.0,\"#f0f921\"]]}],\"surface\":[{\"type\":\"surface\",\"colorbar\":{\"outlinewidth\":0,\"ticks\":\"\"},\"colorscale\":[[0.0,\"#0d0887\"],[0.1111111111111111,\"#46039f\"],[0.2222222222222222,\"#7201a8\"],[0.3333333333333333,\"#9c179e\"],[0.4444444444444444,\"#bd3786\"],[0.5555555555555556,\"#d8576b\"],[0.6666666666666666,\"#ed7953\"],[0.7777777777777778,\"#fb9f3a\"],[0.8888888888888888,\"#fdca26\"],[1.0,\"#f0f921\"]]}],\"mesh3d\":[{\"type\":\"mesh3d\",\"colorbar\":{\"outlinewidth\":0,\"ticks\":\"\"}}],\"scatter\":[{\"fillpattern\":{\"fillmode\":\"overlay\",\"size\":10,\"solidity\":0.2},\"type\":\"scatter\"}],\"parcoords\":[{\"type\":\"parcoords\",\"line\":{\"colorbar\":{\"outlinewidth\":0,\"ticks\":\"\"}}}],\"scatterpolargl\":[{\"type\":\"scatterpolargl\",\"marker\":{\"colorbar\":{\"outlinewidth\":0,\"ticks\":\"\"}}}],\"bar\":[{\"error_x\":{\"color\":\"#2a3f5f\"},\"error_y\":{\"color\":\"#2a3f5f\"},\"marker\":{\"line\":{\"color\":\"#E5ECF6\",\"width\":0.5},\"pattern\":{\"fillmode\":\"overlay\",\"size\":10,\"solidity\":0.2}},\"type\":\"bar\"}],\"scattergeo\":[{\"type\":\"scattergeo\",\"marker\":{\"colorbar\":{\"outlinewidth\":0,\"ticks\":\"\"}}}],\"scatterpolar\":[{\"type\":\"scatterpolar\",\"marker\":{\"colorbar\":{\"outlinewidth\":0,\"ticks\":\"\"}}}],\"histogram\":[{\"marker\":{\"pattern\":{\"fillmode\":\"overlay\",\"size\":10,\"solidity\":0.2}},\"type\":\"histogram\"}],\"scattergl\":[{\"type\":\"scattergl\",\"marker\":{\"colorbar\":{\"outlinewidth\":0,\"ticks\":\"\"}}}],\"scatter3d\":[{\"type\":\"scatter3d\",\"line\":{\"colorbar\":{\"outlinewidth\":0,\"ticks\":\"\"}},\"marker\":{\"colorbar\":{\"outlinewidth\":0,\"ticks\":\"\"}}}],\"scattermapbox\":[{\"type\":\"scattermapbox\",\"marker\":{\"colorbar\":{\"outlinewidth\":0,\"ticks\":\"\"}}}],\"scatterternary\":[{\"type\":\"scatterternary\",\"marker\":{\"colorbar\":{\"outlinewidth\":0,\"ticks\":\"\"}}}],\"scattercarpet\":[{\"type\":\"scattercarpet\",\"marker\":{\"colorbar\":{\"outlinewidth\":0,\"ticks\":\"\"}}}],\"carpet\":[{\"aaxis\":{\"endlinecolor\":\"#2a3f5f\",\"gridcolor\":\"white\",\"linecolor\":\"white\",\"minorgridcolor\":\"white\",\"startlinecolor\":\"#2a3f5f\"},\"baxis\":{\"endlinecolor\":\"#2a3f5f\",\"gridcolor\":\"white\",\"linecolor\":\"white\",\"minorgridcolor\":\"white\",\"startlinecolor\":\"#2a3f5f\"},\"type\":\"carpet\"}],\"table\":[{\"cells\":{\"fill\":{\"color\":\"#EBF0F8\"},\"line\":{\"color\":\"white\"}},\"header\":{\"fill\":{\"color\":\"#C8D4E3\"},\"line\":{\"color\":\"white\"}},\"type\":\"table\"}],\"barpolar\":[{\"marker\":{\"line\":{\"color\":\"#E5ECF6\",\"width\":0.5},\"pattern\":{\"fillmode\":\"overlay\",\"size\":10,\"solidity\":0.2}},\"type\":\"barpolar\"}],\"pie\":[{\"automargin\":true,\"type\":\"pie\"}]},\"layout\":{\"autotypenumbers\":\"strict\",\"colorway\":[\"#636efa\",\"#EF553B\",\"#00cc96\",\"#ab63fa\",\"#FFA15A\",\"#19d3f3\",\"#FF6692\",\"#B6E880\",\"#FF97FF\",\"#FECB52\"],\"font\":{\"color\":\"#2a3f5f\"},\"hovermode\":\"closest\",\"hoverlabel\":{\"align\":\"left\"},\"paper_bgcolor\":\"white\",\"plot_bgcolor\":\"#E5ECF6\",\"polar\":{\"bgcolor\":\"#E5ECF6\",\"angularaxis\":{\"gridcolor\":\"white\",\"linecolor\":\"white\",\"ticks\":\"\"},\"radialaxis\":{\"gridcolor\":\"white\",\"linecolor\":\"white\",\"ticks\":\"\"}},\"ternary\":{\"bgcolor\":\"#E5ECF6\",\"aaxis\":{\"gridcolor\":\"white\",\"linecolor\":\"white\",\"ticks\":\"\"},\"baxis\":{\"gridcolor\":\"white\",\"linecolor\":\"white\",\"ticks\":\"\"},\"caxis\":{\"gridcolor\":\"white\",\"linecolor\":\"white\",\"ticks\":\"\"}},\"coloraxis\":{\"colorbar\":{\"outlinewidth\":0,\"ticks\":\"\"}},\"colorscale\":{\"sequential\":[[0.0,\"#0d0887\"],[0.1111111111111111,\"#46039f\"],[0.2222222222222222,\"#7201a8\"],[0.3333333333333333,\"#9c179e\"],[0.4444444444444444,\"#bd3786\"],[0.5555555555555556,\"#d8576b\"],[0.6666666666666666,\"#ed7953\"],[0.7777777777777778,\"#fb9f3a\"],[0.8888888888888888,\"#fdca26\"],[1.0,\"#f0f921\"]],\"sequentialminus\":[[0.0,\"#0d0887\"],[0.1111111111111111,\"#46039f\"],[0.2222222222222222,\"#7201a8\"],[0.3333333333333333,\"#9c179e\"],[0.4444444444444444,\"#bd3786\"],[0.5555555555555556,\"#d8576b\"],[0.6666666666666666,\"#ed7953\"],[0.7777777777777778,\"#fb9f3a\"],[0.8888888888888888,\"#fdca26\"],[1.0,\"#f0f921\"]],\"diverging\":[[0,\"#8e0152\"],[0.1,\"#c51b7d\"],[0.2,\"#de77ae\"],[0.3,\"#f1b6da\"],[0.4,\"#fde0ef\"],[0.5,\"#f7f7f7\"],[0.6,\"#e6f5d0\"],[0.7,\"#b8e186\"],[0.8,\"#7fbc41\"],[0.9,\"#4d9221\"],[1,\"#276419\"]]},\"xaxis\":{\"gridcolor\":\"white\",\"linecolor\":\"white\",\"ticks\":\"\",\"title\":{\"standoff\":15},\"zerolinecolor\":\"white\",\"automargin\":true,\"zerolinewidth\":2},\"yaxis\":{\"gridcolor\":\"white\",\"linecolor\":\"white\",\"ticks\":\"\",\"title\":{\"standoff\":15},\"zerolinecolor\":\"white\",\"automargin\":true,\"zerolinewidth\":2},\"scene\":{\"xaxis\":{\"backgroundcolor\":\"#E5ECF6\",\"gridcolor\":\"white\",\"linecolor\":\"white\",\"showbackground\":true,\"ticks\":\"\",\"zerolinecolor\":\"white\",\"gridwidth\":2},\"yaxis\":{\"backgroundcolor\":\"#E5ECF6\",\"gridcolor\":\"white\",\"linecolor\":\"white\",\"showbackground\":true,\"ticks\":\"\",\"zerolinecolor\":\"white\",\"gridwidth\":2},\"zaxis\":{\"backgroundcolor\":\"#E5ECF6\",\"gridcolor\":\"white\",\"linecolor\":\"white\",\"showbackground\":true,\"ticks\":\"\",\"zerolinecolor\":\"white\",\"gridwidth\":2}},\"shapedefaults\":{\"line\":{\"color\":\"#2a3f5f\"}},\"annotationdefaults\":{\"arrowcolor\":\"#2a3f5f\",\"arrowhead\":0,\"arrowwidth\":1},\"geo\":{\"bgcolor\":\"white\",\"landcolor\":\"#E5ECF6\",\"subunitcolor\":\"white\",\"showland\":true,\"showlakes\":true,\"lakecolor\":\"white\"},\"title\":{\"x\":0.05},\"mapbox\":{\"style\":\"light\"}}},\"xaxis\":{\"anchor\":\"y\",\"domain\":[0.0,1.0],\"title\":{\"text\":\"Canal\"}},\"yaxis\":{\"anchor\":\"x\",\"domain\":[0.0,1.0],\"title\":{\"text\":\"Performance\"}},\"legend\":{\"tracegroupgap\":0},\"title\":{\"text\":\"Distribui\\u00e7\\u00e3o dos Resultados de Marketing por Canal\"},\"boxmode\":\"group\"},                        {\"responsive\": true}                    ).then(function(){\n",
              "                            \n",
              "var gd = document.getElementById('19d0f89b-3d6c-4d63-a1f6-3cbf62716c22');\n",
              "var x = new MutationObserver(function (mutations, observer) {{\n",
              "        var display = window.getComputedStyle(gd).display;\n",
              "        if (!display || display === 'none') {{\n",
              "            console.log([gd, 'removed!']);\n",
              "            Plotly.purge(gd);\n",
              "            observer.disconnect();\n",
              "        }}\n",
              "}});\n",
              "\n",
              "// Listen for the removal of the full notebook cells\n",
              "var notebookContainer = gd.closest('#notebook-container');\n",
              "if (notebookContainer) {{\n",
              "    x.observe(notebookContainer, {childList: true});\n",
              "}}\n",
              "\n",
              "// Listen for the clearing of the current output cell\n",
              "var outputEl = gd.closest('.output');\n",
              "if (outputEl) {{\n",
              "    x.observe(outputEl, {childList: true});\n",
              "}}\n",
              "\n",
              "                        })                };                            </script>        </div>\n",
              "</body>\n",
              "</html>"
            ]
          },
          "metadata": {}
        }
      ]
    },
    {
      "cell_type": "code",
      "source": [
        "import seaborn as sns\n",
        "import pandas as pd\n",
        "import numpy as np\n",
        "\n",
        "# Exemplo de dados com variáveis financeiras\n",
        "data = {\n",
        "    'Receita': np.random.randint(100, 200, 100),\n",
        "    'Despesas': np.random.randint(80, 150, 100),\n",
        "    'Lucro': np.random.randint(20, 50, 100),\n",
        "    'Investimentos': np.random.randint(50, 100, 100),\n",
        "    'Empréstimos': np.random.randint(10, 100, 100)\n",
        "}\n",
        "\n",
        "# Convertendo em DataFrame\n",
        "df_financeiro = pd.DataFrame(data)\n",
        "\n",
        "# Calculando a matriz de correlação\n",
        "correlacao = df_financeiro.corr()\n",
        "\n",
        "# Criando um mapa de calor (heatmap) das correlações\n",
        "plt.figure(figsize=(8, 6))\n",
        "sns.heatmap(correlacao, annot=True, cmap='coolwarm', fmt=\".2f\")\n",
        "\n",
        "# Adicionando título\n",
        "plt.title('Mapa de Calor de Correlações entre Variáveis Financeiras')\n",
        "\n",
        "plt.show()\n"
      ],
      "metadata": {
        "colab": {
          "base_uri": "https://localhost:8080/",
          "height": 546
        },
        "id": "9D9UM4d4T2uL",
        "outputId": "dd6e7efa-a9c5-4a88-cb05-9b2df8062eca"
      },
      "execution_count": null,
      "outputs": [
        {
          "output_type": "display_data",
          "data": {
            "text/plain": [
              "<Figure size 800x600 with 2 Axes>"
            ],
            "image/png": "[encoded data removed]"
          },
          "metadata": {}
        }
      ]
    }
  ]
}